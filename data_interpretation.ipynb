{
 "cells": [
  {
   "cell_type": "markdown",
   "metadata": {},
   "source": [
    "## Interpret data colleccted in data.csv, and run statistics and meaningfull plots"
   ]
  },
  {
   "cell_type": "markdown",
   "metadata": {},
   "source": [
    "### 1 - Creation of the data file (already done)"
   ]
  },
  {
   "cell_type": "code",
   "execution_count": 1,
   "metadata": {},
   "outputs": [
    {
     "name": "stdout",
     "output_type": "stream",
     "text": [
      "Created experiment.csv with headers.\n"
     ]
    }
   ],
   "source": [
    "import csv\n",
    "import os\n",
    "\n",
    "headers = [\n",
    "    \"DateTime\", \"NumEpochs\", \"SwitchEpoch\", \"AlphaForEpochSup140\", \"Condition\", \"Digits\", \"SilhouetteScore\", \"NMI\",\n",
    "    \"acc_0\", \"acc_1\", \"acc_2\", \"acc_3\", \"acc_4\", \"acc_5\", \"acc_6\", \"acc_7\", \"acc_8\", \"acc_9\",\n",
    "    \"acc_mean\", \"SSIM_mean\", \"x_class_as_y\", \"y_class_as_x\"\n",
    "]\n",
    "\n",
    "file_name = 'experiment.csv'\n",
    "\n",
    "with open(file_name, 'a', newline='') as file:\n",
    "    writer = csv.writer(file)\n",
    "    writer.writerow(headers)\n",
    "    print(f\"Created {file_name} with headers.\")\n"
   ]
  },
  {
   "cell_type": "markdown",
   "metadata": {},
   "source": [
    "### 2 - Adding values to it (already done during experiments)"
   ]
  },
  {
   "cell_type": "code",
   "execution_count": null,
   "metadata": {},
   "outputs": [],
   "source": [
    "with open('experiment.csv', mode='a', newline='') as data_file:\n",
    "    writer = csv.writer(data_file)\n",
    "    writer.writerow([\n",
    "        datetime.now(),\n",
    "        num_epochs,\n",
    "        swap_epoch,\n",
    "        AlphaForEpochSup140,\n",
    "        Condition,\n",
    "        Digits,\n",
    "        silhouette,\n",
    "        nmi_score,\n",
    "        [acc_epoch[0] for acc_epoch in test_acc],\n",
    "        [acc_epoch[1] for acc_epoch in test_acc],\n",
    "        [acc_epoch[2] for acc_epoch in test_acc],\n",
    "        [acc_epoch[3] for acc_epoch in test_acc],\n",
    "        [acc_epoch[4] for acc_epoch in test_acc],\n",
    "        [acc_epoch[5] for acc_epoch in test_acc],\n",
    "        [acc_epoch[6] for acc_epoch in test_acc],\n",
    "        [acc_epoch[7] for acc_epoch in test_acc],\n",
    "        [acc_epoch[8] for acc_epoch in test_acc],\n",
    "        [acc_epoch[9] for acc_epoch in test_acc],\n",
    "        [statistics.mean(epoch.values()) for epoch in test_acc],  \n",
    "        test_ssim,\n",
    "        [class_epoch[0] for class_epoch in tracked_class], # or np.nan if normal condtion\n",
    "        [class_epoch[1] for class_epoch in tracked_class], # or np.nan if normal condtion\n",
    "    ])"
   ]
  },
  {
   "cell_type": "markdown",
   "metadata": {},
   "source": [
    "### 2 - Curating data"
   ]
  },
  {
   "cell_type": "code",
   "execution_count": 38,
   "metadata": {},
   "outputs": [],
   "source": [
    "import pandas as pd\n",
    "import numpy as np\n",
    "import ast\n",
    "\n",
    "# Function to safely evaluate string as list\n",
    "def safe_eval(x):\n",
    "    try:\n",
    "        return ast.literal_eval(x)\n",
    "    except:\n",
    "        return []\n",
    "\n",
    "# Function to calculate mean of a specific range in a list\n",
    "def calculate_range_mean(lst, start, end):\n",
    "    return np.mean(lst[start-1:end]) if len(lst) >= end else np.nan\n",
    "\n",
    "# Function to trim list to last 251 elements\n",
    "def trim_list(x, condition):\n",
    "    if condition == 'Apathy' and len(x) > 251:\n",
    "        return x[-251:]\n",
    "    return x"
   ]
  },
  {
   "cell_type": "code",
   "execution_count": 39,
   "metadata": {},
   "outputs": [],
   "source": [
    "# Load the CSV file\n",
    "df = pd.read_csv('experiment.csv')"
   ]
  },
  {
   "cell_type": "code",
   "execution_count": 40,
   "metadata": {},
   "outputs": [],
   "source": [
    "# Convert string representations of lists to actual lists\n",
    "list_columns = [\"SilhouetteScore\", \"NMI\", \"acc_0\", \"acc_1\", \"acc_2\", \"acc_3\", \"acc_4\", \"acc_5\", \"acc_6\", \"acc_7\", \"acc_8\", \"acc_9\",\n",
    "    \"acc_mean\", \"SSIM_mean\", \"x_class_as_y\", \"y_class_as_x\"]\n",
    "for col in list_columns:\n",
    "    df[col] = df[col].apply(safe_eval)"
   ]
  },
  {
   "cell_type": "code",
   "execution_count": 41,
   "metadata": {},
   "outputs": [],
   "source": [
    "# Trim x_class_as_y and y_class_as_x for Apathy condition\n",
    "df['x_class_as_y'] = df.apply(lambda row: trim_list(row['x_class_as_y'], row['Condition']), axis=1)\n",
    "df['y_class_as_x'] = df.apply(lambda row: trim_list(row['y_class_as_x'], row['Condition']), axis=1)"
   ]
  },
  {
   "cell_type": "code",
   "execution_count": 42,
   "metadata": {},
   "outputs": [],
   "source": [
    "# Define the new columns to add and their corresponding base columns\n",
    "new_columns = {\n",
    "    'SilhouetteScore': ['SilhouetteScore_132-141', 'SilhouetteScore_142-151', 'SilhouetteScore_242-251'],\n",
    "    'NMI': ['NMI_132-141', 'NMI_142-151', 'NMI_242-251'],\n",
    "    'acc_mean': ['acc_mean_132-141', 'acc_mean_142-151', 'acc_mean_242-251'],\n",
    "    'SSIM_mean': ['SSIM_mean_132-141', 'SSIM_mean_142-151', 'SSIM_mean_242-251'],\n",
    "    'x_class_as_y': ['x_as_y_132-141', 'x_as_y_142-151', 'x_as_y_242-251'],\n",
    "    'y_class_as_x': ['y_as_x_132-141', 'y_as_x_142-151', 'y_as_x_242-251']\n",
    "}"
   ]
  },
  {
   "cell_type": "code",
   "execution_count": 43,
   "metadata": {},
   "outputs": [],
   "source": [
    "# Add new columns and calculate their values\n",
    "for base_col, new_cols in new_columns.items():\n",
    "    for new_col in new_cols:\n",
    "        start, end = map(int, new_col.split('_')[-1].split('-'))\n",
    "        df[new_col] = df[base_col].apply(lambda x: calculate_range_mean(x, start, end))"
   ]
  },
  {
   "cell_type": "code",
   "execution_count": 44,
   "metadata": {},
   "outputs": [],
   "source": [
    "# Reorder columns to place new columns after their base column\n",
    "for base_col, new_cols in new_columns.items():\n",
    "    insert_index = df.columns.get_loc(base_col) + 1\n",
    "    for i, new_col in enumerate(new_cols):\n",
    "        col_data = df.pop(new_col)\n",
    "        df.insert(insert_index + i, new_col, col_data)"
   ]
  },
  {
   "cell_type": "code",
   "execution_count": 45,
   "metadata": {},
   "outputs": [
    {
     "name": "stdout",
     "output_type": "stream",
     "text": [
      "CSV file has been modified and saved as 'curated_data.csv'\n"
     ]
    }
   ],
   "source": [
    "# Save the modified DataFrame back to CSV\n",
    "df.to_csv('curated_data.csv', index=False)\n",
    "\n",
    "print(\"CSV file has been modified and saved as 'curated_data.csv'\")"
   ]
  },
  {
   "cell_type": "markdown",
   "metadata": {},
   "source": [
    "### 3 - Stats anaysis on key values"
   ]
  },
  {
   "cell_type": "markdown",
   "metadata": {},
   "source": [
    "Sort by, and run statistics between the categories:\n",
    "- Condition: \"Normal\", \"Apathy\", \"Delusion\"\n",
    "- AlphaForSupEpoch140: 0.2; 0.5; 0.8\n",
    "- +/- Digits (for Conditions \"Apathy\" and \"Delusion\"): see if the Digits as an effect on the results (hypothesis: yes)\n",
    "\n",
    "Variables to compare:\n",
    "- 'SilhouetteScore_132-141' to 'SilhouetteScore_142-151' and to 'SilhouetteScore_242-251'\n",
    "- 'NMI_132-141' to 'NMI_142-151'and to 'NMI_242-251'\n",
    "- 'acc_mean_132-141' to 'acc_mean_142-151' and to 'acc_mean_242-251'\n",
    "- 'SSIM_mean_132-141' to 'SSIM_mean_142-151' and to 'SSIM_mean_242-251'\n",
    "- 'x_as_y_132-141' to 'x_as_y_142-151' and to 'x_as_y_242-251'\n",
    "- 'y_as_x_132-141' to 'y_as_x_142-151' and to 'y_as_x_242-251'"
   ]
  },
  {
   "cell_type": "code",
   "execution_count": 52,
   "metadata": {},
   "outputs": [],
   "source": [
    "# Define the categories and variables for comparison\n",
    "condition_pairs = [(\"Normal\", \"Apathy\"), (\"Normal\", \"Delusion\")]\n",
    "alpha_values = [0.2, 0.5, 0.8]\n",
    "variables = ['SilhouetteScore', 'NMI', 'acc_mean', 'SSIM_mean']\n",
    "variable_spe_condition = ['SilhouetteScore', 'NMI', 'acc_mean', 'SSIM_mean','x_class_as_y', 'y_class_as_x']\n",
    "ranges = ['132-141', '142-151', '242-251']\n",
    "digit_groups = [(0, 1), (4, 9), (3, 8)]\n",
    "\n",
    "df['Digits'] = pd.to_numeric(df['Digits'], errors='coerce')"
   ]
  },
  {
   "cell_type": "code",
   "execution_count": 53,
   "metadata": {},
   "outputs": [],
   "source": [
    "import pandas as pd\n",
    "import numpy as np\n",
    "from scipy import stats\n",
    "import matplotlib.pyplot as plt\n",
    "import seaborn as sns\n",
    "\n",
    "\n",
    "\n",
    "def check_normality(data):\n",
    "    _, p_value = stats.shapiro(data)\n",
    "    return p_value > 0.05 # Returns True if data is likely normal (p > 0.05)\n",
    "\n",
    "\n",
    "def run_statistical_tests(group1, group2):\n",
    "    if check_normality(group1) and check_normality(group2):\n",
    "        t_stat, p_value = stats.ttest_ind(group1, group2)\n",
    "        test_name = \"t-test\"\n",
    "    else:\n",
    "        t_stat, p_value = stats.mannwhitneyu(group1, group2)\n",
    "        test_name = \"Mann-Whitney U test\"\n",
    "    return p_value, test_name\n",
    "\n",
    "\n",
    "def analyze_variable(df, variable, condition_pair):\n",
    "    normal_condition, other_condition = condition_pair\n",
    "    print(f\"\\nAnalysis for {variable}: {normal_condition} vs {other_condition}\")\n",
    "    for alpha in alpha_values:\n",
    "        print(f\"  Alpha = {alpha}:\")\n",
    "        normal_subset = df[(df['Condition'] == normal_condition) & (df['AlphaForEpochSup140'] == alpha)]\n",
    "        other_subset = df[(df['Condition'] == other_condition) & (df['AlphaForEpochSup140'] == alpha)]\n",
    "        for range_val in ranges:\n",
    "            var = f\"{variable}_{range_val}\"\n",
    "            p_value, test_name = run_statistical_tests(normal_subset[var], other_subset[var])\n",
    "            print(f\"    {var}: p-value = {p_value:.4f} ({test_name})\")\n",
    "\n",
    "def analyze_digits_effect(df, variable, condition):\n",
    "    print(f\"\\nAnalysis of Digits effect for {variable} in {condition} condition\")\n",
    "    for alpha in alpha_values:\n",
    "        print(f\"  Alpha = {alpha}:\")\n",
    "        subset = df[(df['Condition'] == condition) & (df['AlphaForEpochSup140'] == alpha)]\n",
    "        for digit_group in digit_groups:\n",
    "            subsets = subset[subset['Digits'] == digit_group]\n",
    "\n",
    "        for range_val in ranges:\n",
    "            var = f\"{variable}_{range_val}\"\n",
    "            print(f\"    {var}:\")\n",
    "\n"
   ]
  },
  {
   "cell_type": "code",
   "execution_count": null,
   "metadata": {},
   "outputs": [],
   "source": [
    "def analyze_digits_effect(df, variable, condition):\n",
    "    print(f\"\\nAnalysis of Digits effect for {variable} in {condition} condition\")\n",
    "    for alpha in alpha_values:\n",
    "        print(f\"  Alpha = {alpha}:\")\n",
    "        subset = df[(df['Condition'] == condition) & (df['AlphaForEpochSup140'] == alpha)]\n",
    "        for digit_group in digit_groups:\n",
    "            subsets = subset[subset['Digits'] == digit_group]      \n",
    "        for range_val in ranges:\n",
    "            var = f\"{variable}_{range_val}\"\n",
    "            print(f\"    {var}:\")\n",
    "            for digit in digit_group:\n",
    "                digit_subset = subsets[subsets['Digits'] == digit]\n",
    "                print(f\"      Digit {digit}:\")\n",
    "                for range_val in ranges:\n",
    "                    var = f\"{variable}_{range_val}\"\n",
    "                    p_value, test_name = run_statistical_tests(digit_subset[var], other_subset[var])\n",
    "                    print(f\"        {var}: p-value = {p_value:.4f} ({test_name})\")"
   ]
  },
  {
   "cell_type": "code",
   "execution_count": null,
   "metadata": {},
   "outputs": [],
   "source": [
    "def analyze_digits_effect(df, variable, condition):\n",
    "    print(f\"\\nAnalysis of Digits effect for {variable} in {condition} condition\")\n",
    "    for alpha in alpha_values:\n",
    "        print(f\"  Alpha = {alpha}:\")\n",
    "        subset = df[(df['Condition'] == condition) & (df['AlphaForEpochSup140'] == alpha)]\n",
    "        for range_val in ranges:\n",
    "            var = f\"{variable}_{range_val}\"\n",
    "            print(f\"    {var}:\")\n",
    "            for i, (low1, high1) in enumerate(digit_groups):\n",
    "                for j, (low2, high2) in enumerate(digit_groups[i+1:], start=i+1):\n",
    "                    group1 = subset[(subset['Digits'] >= low1) & (subset['Digits'] <= high1)][var]\n",
    "                    group2 = subset[(subset['Digits'] >= low2) & (subset['Digits'] <= high2)][var]\n",
    "                    if len(group1) > 0 and len(group2) > 0:\n",
    "                        p_value, test_name = run_statistical_tests(group1, group2)\n",
    "                        print(f\"      Digits {low1}-{high1} vs {low2}-{high2}: p-value = {p_value:.4f} ({test_name})\")\n",
    "                    else:\n",
    "                        print(f\"      Digits {low1}-{high1} vs {low2}-{high2}: Insufficient data for analysis\")"
   ]
  },
  {
   "cell_type": "code",
   "execution_count": 54,
   "metadata": {},
   "outputs": [],
   "source": [
    "# Load the modified CSV file\n",
    "df = pd.read_csv('curated_data.csv')\n",
    "\n",
    "# Convert 'Digits' column to numeric, replacing any non-numeric values with NaN\n",
    "df['Digits'] = pd.to_numeric(df['Digits'], errors='coerce')"
   ]
  },
  {
   "cell_type": "code",
   "execution_count": 55,
   "metadata": {},
   "outputs": [
    {
     "name": "stdout",
     "output_type": "stream",
     "text": [
      "\n",
      "Analysis for SilhouetteScore: Normal vs Apathy\n",
      "  Alpha = 0.2:\n",
      "    SilhouetteScore_132-141: p-value = 0.9373 (t-test)\n",
      "    SilhouetteScore_142-151: p-value = 0.0000 (t-test)\n",
      "    SilhouetteScore_242-251: p-value = 0.0036 (t-test)\n",
      "  Alpha = 0.5:\n",
      "    SilhouetteScore_132-141: p-value = 0.2055 (t-test)\n",
      "    SilhouetteScore_142-151: p-value = 0.0015 (Mann-Whitney U test)\n",
      "    SilhouetteScore_242-251: p-value = 0.0048 (t-test)\n",
      "  Alpha = 0.8:\n",
      "    SilhouetteScore_132-141: p-value = 0.7392 (t-test)\n",
      "    SilhouetteScore_142-151: p-value = 0.0459 (t-test)\n",
      "    SilhouetteScore_242-251: p-value = 0.2470 (t-test)\n",
      "\n",
      "Analysis for NMI: Normal vs Apathy\n",
      "  Alpha = 0.2:\n",
      "    NMI_132-141: p-value = 0.2408 (t-test)\n",
      "    NMI_142-151: p-value = 0.0085 (t-test)\n",
      "    NMI_242-251: p-value = 0.0001 (t-test)\n",
      "  Alpha = 0.5:\n",
      "    NMI_132-141: p-value = 0.4445 (Mann-Whitney U test)\n",
      "    NMI_142-151: p-value = 0.0012 (t-test)\n",
      "    NMI_242-251: p-value = 0.0655 (Mann-Whitney U test)\n",
      "  Alpha = 0.8:\n",
      "    NMI_132-141: p-value = 0.9328 (Mann-Whitney U test)\n",
      "    NMI_142-151: p-value = 0.2661 (Mann-Whitney U test)\n",
      "    NMI_242-251: p-value = 0.7559 (t-test)\n",
      "\n",
      "Analysis for acc_mean: Normal vs Apathy\n",
      "  Alpha = 0.2:\n",
      "    acc_mean_132-141: p-value = 0.4445 (t-test)\n",
      "    acc_mean_142-151: p-value = 0.0000 (t-test)\n",
      "    acc_mean_242-251: p-value = 0.0001 (Mann-Whitney U test)\n",
      "  Alpha = 0.5:\n",
      "    acc_mean_132-141: p-value = 0.8380 (t-test)\n",
      "    acc_mean_142-151: p-value = 0.0000 (t-test)\n",
      "    acc_mean_242-251: p-value = 0.0001 (Mann-Whitney U test)\n",
      "  Alpha = 0.8:\n",
      "    acc_mean_132-141: p-value = 0.4534 (t-test)\n",
      "    acc_mean_142-151: p-value = 0.0001 (Mann-Whitney U test)\n",
      "    acc_mean_242-251: p-value = 0.0001 (Mann-Whitney U test)\n",
      "\n",
      "Analysis for SSIM_mean: Normal vs Apathy\n",
      "  Alpha = 0.2:\n",
      "    SSIM_mean_132-141: p-value = 0.8099 (t-test)\n",
      "    SSIM_mean_142-151: p-value = 0.0522 (t-test)\n",
      "    SSIM_mean_242-251: p-value = 0.0494 (t-test)\n",
      "  Alpha = 0.5:\n",
      "    SSIM_mean_132-141: p-value = 0.4669 (t-test)\n",
      "    SSIM_mean_142-151: p-value = 0.2206 (t-test)\n",
      "    SSIM_mean_242-251: p-value = 0.0033 (t-test)\n",
      "  Alpha = 0.8:\n",
      "    SSIM_mean_132-141: p-value = 0.0352 (t-test)\n",
      "    SSIM_mean_142-151: p-value = 0.0406 (t-test)\n",
      "    SSIM_mean_242-251: p-value = 0.4329 (t-test)\n"
     ]
    }
   ],
   "source": [
    "# Run analyses\n",
    "condition_pair = (\"Normal\", \"Apathy\")\n",
    "for variable in variables:\n",
    "    analyze_variable(df, variable, condition_pair)"
   ]
  },
  {
   "cell_type": "code",
   "execution_count": null,
   "metadata": {},
   "outputs": [],
   "source": [
    "# To do later because problem in the analysis\n",
    "\n",
    "condition = \"Apathy\"\n",
    "for variable in variables:\n",
    "        analyze_digits_effect(df, variable, condition)"
   ]
  },
  {
   "cell_type": "code",
   "execution_count": 70,
   "metadata": {},
   "outputs": [],
   "source": [
    "def plot_variable_across_conditions(df, variable, condition_pair):\n",
    "    normal_condition, other_condition = condition_pair\n",
    "    plt.figure(figsize=(8, 6))\n",
    "    for i, range_val in enumerate(ranges):\n",
    "        var = f\"{variable}_{range_val}\"\n",
    "        subset = df[df['Condition'].isin([normal_condition, other_condition])]\n",
    "        sns.boxplot(x='Condition', y=var, hue='AlphaForEpochSup140', data=subset)\n",
    "        if variable == 'acc_mean':\n",
    "            #plt.ylim(65, 100)\n",
    "            plt.ylabel(\"Accuracy (%)\")\n",
    "        if variable == 'NMI':\n",
    "            #plt.ylim(0.4, 1)\n",
    "            plt.ylabel(\"NMI\")\n",
    "        plt.title(f\"Stats_{var}: {normal_condition} vs {other_condition}\")\n",
    "        if variable == 'SSIM_mean':\n",
    "            #plt.ylim(-0.2, 0.2)\n",
    "            plt.ylabel(\"SSIM\")\n",
    "        plt.savefig(f\"./Plots/Stats/{variable}/Stats_{var}_{normal_condition}_vs_{other_condition}_0.png\")\n",
    "        plt.close()\n",
    "\n",
    "def plot_individual_variable(df, variable, condition_pair, range_val):\n",
    "    normal_condition, other_condition = condition_pair\n",
    "    plt.figure(figsize=(8, 6))\n",
    "    var = f\"{variable}_{range_val}\"\n",
    "    subset = df[df['Condition'].isin([normal_condition, other_condition])]\n",
    "    sns.boxplot(x='Condition', y=var, hue='AlphaForEpochSup140', data=subset)\n",
    "    if variable == 'acc_mean':\n",
    "        plt.ylim(65, 100)\n",
    "        plt.ylabel(\"Accuracy (%)\")\n",
    "    if variable == 'NMI':\n",
    "        plt.ylim(0.4, 1)\n",
    "        plt.ylabel(\"NMI\")\n",
    "    if variable == 'SSIM_mean':\n",
    "        plt.ylim(0.1, 0.2)\n",
    "        plt.ylabel(\"SSIM\")\n",
    "    plt.title(f\"Stats_{var}: {normal_condition} vs {other_condition}\")\n",
    "    plt.savefig(f\"./Plots/Stats/{variable}/Stats_{var}_{normal_condition}_vs_{other_condition}_1.png\")\n",
    "    plt.close()\n",
    "\n",
    "def plot_digits_effect(df, variable, condition, range_val):\n",
    "    plt.figure(figsize=(10, 6))\n",
    "    var = f\"{variable}_{range_val}\"\n",
    "    subset = df[df['Condition'] == condition]\n",
    "    sns.boxplot(x='Digits', y=var, hue='AlphaForEpochSup140', data=subset)\n",
    "    plt.title(f\"Stats_{var}: Digit Effect in {condition} Condition\")\n",
    "    plt.savefig(f\"./Plots/Stats/{variable}/Stats_{var}_{condition}_digits_effect_boxplot.png\")\n",
    "    plt.close()"
   ]
  },
  {
   "cell_type": "code",
   "execution_count": 71,
   "metadata": {},
   "outputs": [],
   "source": [
    "condition_pair = (\"Normal\", \"Apathy\")\n",
    "for variable in variables:\n",
    "        plot_variable_across_conditions(df, variable, condition_pair)\n",
    "        for range_val in ranges:\n",
    "                plot_individual_variable(df, variable, condition_pair, range_val)\n",
    "for range_val in ranges:\n",
    "        plot_individual_variable(df, variable, condition_pair, range_val)"
   ]
  },
  {
   "cell_type": "code",
   "execution_count": null,
   "metadata": {},
   "outputs": [],
   "source": [
    "# To work on the visualization function\n",
    "for condition in [\"Apathy\", \"Delusion\"][0]:\n",
    "    for variable in variables:\n",
    "        for range_val in ranges:\n",
    "            plot_digits_effect(df, variable, condition, range_val)"
   ]
  },
  {
   "cell_type": "markdown",
   "metadata": {},
   "source": [
    "### 5 - Plotting examples"
   ]
  },
  {
   "cell_type": "markdown",
   "metadata": {},
   "source": [
    "- Plot the mean with standard deviation across of the values\n",
    "- For variable of interest (SilhouetteScore, NMI, acc_mean, SSIM_mean): histogram of the 3 timepoints (before condition, after condition, end of traning) for each condition. \n",
    "\n",
    "Looks like 12 bars in 4 batches well spaced; with 3 first bars are with Condition \"Normal\", and with timepoints \"132-141\", then \"142_151\", then \"242_251\"; \n",
    "\n",
    "then the 3 second bars are with Condition \"Apathy\" and Digits \"(0,1)\", and with timepoints \"132-141\", then \"142_151\", then \"242_251\"; \n",
    "\n",
    "and the 3 third bars are with Condition \"Apathy\" and Digits \"(4,9)\", and with timepoints \"132-141\", then \"142_151\", then \"242_251\"; \n",
    "\n",
    "and the 3 last bars are with Condition \"Apathy\" and Digits \"(3,8)\", and with timepoints \"132-141\", then \"142_151\", then \"242_251\"\n",
    "\n",
    "- do the same with delusion"
   ]
  },
  {
   "cell_type": "markdown",
   "metadata": {},
   "source": []
  }
 ],
 "metadata": {
  "kernelspec": {
   "display_name": "Python 3",
   "language": "python",
   "name": "python3"
  },
  "language_info": {
   "codemirror_mode": {
    "name": "ipython",
    "version": 3
   },
   "file_extension": ".py",
   "mimetype": "text/x-python",
   "name": "python",
   "nbconvert_exporter": "python",
   "pygments_lexer": "ipython3",
   "version": "3.11.9"
  }
 },
 "nbformat": 4,
 "nbformat_minor": 2
}
