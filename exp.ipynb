{
 "cells": [
  {
   "cell_type": "markdown",
   "metadata": {},
   "source": [
    "# Combined network: \n",
    "\n",
    "- Encoder-decoder unit --> Local network with self-supervised learning --> mimic PV?\n",
    "\n",
    "- Encoder-classifier unit --> Global network with supervised learning --> mimic SST?\n",
    "\n",
    "\n",
    "TODO:\n",
    "- find this SST input ?\n",
    "- Quantify learning: ablation of specific inputs or total specific areas\n",
    "- Drop off of some units in specific areas or layers for example"
   ]
  },
  {
   "cell_type": "code",
   "execution_count": 11,
   "metadata": {},
   "outputs": [
    {
     "data": {
      "text/plain": [
       "<torch._C.Generator at 0x1092d2a50>"
      ]
     },
     "execution_count": 11,
     "metadata": {},
     "output_type": "execute_result"
    }
   ],
   "source": [
    "import os\n",
    "import torch\n",
    "import torchvision\n",
    "import torch.nn as nn\n",
    "import torch.nn.functional as F\n",
    "import torch.optim as optim\n",
    "# from skimage.metrics import structural_similarity as ssim\n",
    "import numpy as np\n",
    "\n",
    "random_seed = 1\n",
    "torch.backends.cudnn.enabled = False\n",
    "torch.manual_seed(random_seed)"
   ]
  },
  {
   "cell_type": "markdown",
   "metadata": {},
   "source": [
    "### Dataset"
   ]
  },
  {
   "cell_type": "code",
   "execution_count": 12,
   "metadata": {},
   "outputs": [
    {
     "name": "stdout",
     "output_type": "stream",
     "text": [
      "Train dataset size: 60000\n",
      "Test dataset size: 10000\n"
     ]
    }
   ],
   "source": [
    "from dataset import get_mnist_dataset\n",
    "working_directory = os.getcwd()\n",
    "data_dir = os.path.join(working_directory, './dataset')\n",
    "batch_size_train = 64\n",
    "batch_size_test = 1000\n",
    "\n",
    "train_data_loader, test_data_loader = get_mnist_dataset(data_dir, batch_size_train=batch_size_train, batch_size_test=batch_size_test)\n",
    "\n",
    "print('Train dataset size: {}'.format(len(train_data_loader.dataset)))\n",
    "print('Test dataset size: {}'.format(len(test_data_loader.dataset)))"
   ]
  },
  {
   "cell_type": "markdown",
   "metadata": {},
   "source": [
    "### Model"
   ]
  },
  {
   "cell_type": "code",
   "execution_count": 85,
   "metadata": {},
   "outputs": [
    {
     "name": "stdout",
     "output_type": "stream",
     "text": [
      "PV_SST_Pyr(\n",
      "  (encoder): encoder(\n",
      "    (flatten): Flatten()\n",
      "    (activation): Sigmoid()\n",
      "    (fc1): Linear(in_features=784, out_features=128, bias=True)\n",
      "    (fc2): Linear(in_features=128, out_features=64, bias=True)\n",
      "    (fc3): Linear(in_features=64, out_features=16, bias=True)\n",
      "  )\n",
      "  (decoder): decoder(\n",
      "    (activation): Sigmoid()\n",
      "    (fc1): Linear(in_features=16, out_features=128, bias=True)\n",
      "    (fc2): Linear(in_features=128, out_features=784, bias=True)\n",
      "  )\n",
      "  (classifier): classifier(\n",
      "    (fc1): Linear(in_features=16, out_features=10, bias=True)\n",
      "    (activation): Sigmoid()\n",
      "  )\n",
      ")\n"
     ]
    }
   ],
   "source": [
    "from modules.network import PV_SST_Pyr\n",
    "\n",
    "model = PV_SST_Pyr(thal_input_dim = 784, latent_dim=16, output_dim=10)\n",
    "\n",
    "print(model)"
   ]
  },
  {
   "cell_type": "code",
   "execution_count": 86,
   "metadata": {},
   "outputs": [
    {
     "name": "stdout",
     "output_type": "stream",
     "text": [
      "encoder.fc1.weight\n",
      "encoder.fc1.bias\n",
      "encoder.fc2.weight\n",
      "encoder.fc2.bias\n",
      "encoder.fc3.weight\n",
      "encoder.fc3.bias\n",
      "decoder.fc1.weight\n",
      "decoder.fc1.bias\n",
      "decoder.fc2.weight\n",
      "decoder.fc2.bias\n",
      "classifier.fc1.weight\n",
      "classifier.fc1.bias\n"
     ]
    }
   ],
   "source": [
    "for name, param in model.named_parameters():\n",
    "    print (name)   "
   ]
  },
  {
   "cell_type": "markdown",
   "metadata": {},
   "source": [
    "### Train & test"
   ]
  },
  {
   "cell_type": "code",
   "execution_count": 87,
   "metadata": {},
   "outputs": [],
   "source": [
    "from modules.utils import weight_update, print_grad_norms\n",
    "lr = 0.05\n",
    "momentum = 0.5\n",
    "loss_fn = nn.MSELoss()\n",
    "optimizer = optim.SGD(model.parameters(), lr=lr, momentum=momentum)\n",
    "\n",
    "num_epochs = 10\n",
    "log_interval = 300\n",
    "alpha = 0.5 \n",
    "\n",
    "train_losses = []\n",
    "train_recon_losses = []\n",
    "train_global_losses = []\n",
    "train_counter = []\n",
    "test_losses = []\n",
    "test_counter = [i*len(train_data_loader.dataset) for i in range(num_epochs + 1)]\n",
    "\n",
    "def train(epoch, dataloader, model, optimizer, loss_fn, alpha):\n",
    "    recon_loss_avg = 0\n",
    "    global_loss_avg = 0\n",
    "    loss_avg = 0\n",
    "    model.train() \n",
    "    for batch_idx, batch in enumerate(dataloader):\n",
    "        optimizer.zero_grad()\n",
    "        thal_input, target = batch \n",
    "        t = F.one_hot(target, num_classes=10).float()\n",
    "        _, recon, output = model(thal_input)\n",
    "\n",
    "        recon_loss = loss_fn(recon, thal_input.view(thal_input.size(0), -1)) \n",
    "        global_loss = loss_fn(output, t)\n",
    "        total_loss = alpha*recon_loss + (1 - alpha)*global_loss\n",
    "        recon_loss_avg += recon_loss.item()\n",
    "        global_loss_avg += global_loss.item()\n",
    "        loss_avg += total_loss.item()\n",
    "        weight_update(model, optimizer, recon_loss, global_loss, total_loss)\n",
    "        \n",
    "        if batch_idx % log_interval == 0:\n",
    "            train_losses.append(total_loss.item())\n",
    "            train_recon_losses.append(recon_loss.item())\n",
    "            train_global_losses.append(global_loss.item())\n",
    "            train_counter.append((batch_idx*64) + ((epoch-1)*len(dataloader.dataset)))\n",
    "            #print_grad_norms(model.encoder, \"Encoder\")\n",
    "            #print_grad_norms(model.decoder, \"Decoder\")\n",
    "            #print_grad_norms(model.classifier, \"Classifier\")\n",
    "\n",
    "    recon_loss_avg, global_loss_avg, loss_avg = (loss / len(dataloader) for loss in (recon_loss_avg, global_loss_avg, loss_avg))\n",
    "    print('Epoch: {} Recon_loss: {:.6f} Global_loss: {:.6f}  Total loss: {:.6f}'.format(epoch, recon_loss_avg, global_loss_avg, loss_avg))\n",
    "\n",
    "def test(dataloader, model, loss_fn, alpha):\n",
    "    model.eval()\n",
    "    recon_loss_avg = 0\n",
    "    global_loss_avg = 0\n",
    "    test_loss_avg = 0\n",
    "    with torch.no_grad():\n",
    "        for batch in dataloader:\n",
    "            thal_input, target = batch\n",
    "            t = F.one_hot(target, num_classes=10).float()\n",
    "            _, recon, output = model(thal_input)\n",
    "\n",
    "            recon_loss = loss_fn(recon, thal_input.view(thal_input.size(0), -1))\n",
    "            global_loss = loss_fn(output, t)\n",
    "            total_loss = alpha*recon_loss + (1 - alpha)*global_loss\n",
    "            recon_loss_avg += recon_loss.item()\n",
    "            global_loss_avg += global_loss.item()\n",
    "            test_loss_avg += total_loss.item()\n",
    "            #ssim_score = calculate_ssim(recon, inputs)\n",
    "            \n",
    "    recon_loss_avg, global_loss_avg, test_loss_avg = (loss / len(dataloader) for loss in (recon_loss_avg, global_loss_avg, test_loss_avg))\n",
    "    test_losses.append(test_loss_avg)\n",
    "    print('Test set: Recon_loss: {:.6f} Global_loss: {:.6f} Total loss: {:.6f}\\n'.format(recon_loss_avg, global_loss_avg, test_loss_avg))\n",
    "    \n"
   ]
  },
  {
   "cell_type": "code",
   "execution_count": 88,
   "metadata": {},
   "outputs": [
    {
     "name": "stdout",
     "output_type": "stream",
     "text": [
      "Test set: Recon_loss: 1.274092 Global_loss: 0.259917 Total loss: 0.767004\n",
      "\n",
      "Epoch: 1 Recon_loss: 1.071284 Global_loss: 0.106241  Total loss: 0.588762\n",
      "Test set: Recon_loss: 0.945693 Global_loss: 0.090108 Total loss: 0.517900\n",
      "\n",
      "Epoch: 2 Recon_loss: 0.887022 Global_loss: 0.089995  Total loss: 0.488509\n",
      "Test set: Recon_loss: 0.859567 Global_loss: 0.089998 Total loss: 0.474783\n",
      "\n",
      "Epoch: 3 Recon_loss: 0.840284 Global_loss: 0.090010  Total loss: 0.465147\n",
      "Test set: Recon_loss: 0.834962 Global_loss: 0.090000 Total loss: 0.462481\n",
      "\n",
      "Epoch: 4 Recon_loss: 0.824906 Global_loss: 0.089992  Total loss: 0.457449\n",
      "Test set: Recon_loss: 0.825020 Global_loss: 0.089976 Total loss: 0.457498\n",
      "\n",
      "Epoch: 5 Recon_loss: 0.818005 Global_loss: 0.089976  Total loss: 0.453990\n",
      "Test set: Recon_loss: 0.819909 Global_loss: 0.089967 Total loss: 0.454938\n",
      "\n",
      "Epoch: 6 Recon_loss: 0.814162 Global_loss: 0.089970  Total loss: 0.452066\n",
      "Test set: Recon_loss: 0.816875 Global_loss: 0.089962 Total loss: 0.453419\n",
      "\n",
      "Epoch: 7 Recon_loss: 0.811779 Global_loss: 0.089968  Total loss: 0.450874\n",
      "Test set: Recon_loss: 0.814874 Global_loss: 0.089963 Total loss: 0.452419\n",
      "\n",
      "Epoch: 8 Recon_loss: 0.810170 Global_loss: 0.089968  Total loss: 0.450069\n",
      "Test set: Recon_loss: 0.813469 Global_loss: 0.089963 Total loss: 0.451716\n",
      "\n",
      "Epoch: 9 Recon_loss: 0.809002 Global_loss: 0.089967  Total loss: 0.449484\n",
      "Test set: Recon_loss: 0.812430 Global_loss: 0.089961 Total loss: 0.451196\n",
      "\n",
      "Epoch: 10 Recon_loss: 0.808104 Global_loss: 0.089967  Total loss: 0.449035\n",
      "Test set: Recon_loss: 0.811628 Global_loss: 0.089961 Total loss: 0.450795\n",
      "\n"
     ]
    }
   ],
   "source": [
    "test(test_data_loader, model, loss_fn, alpha)\n",
    "\n",
    "for epoch in range(1, num_epochs + 1):\n",
    "  train(epoch, train_data_loader, model, optimizer, loss_fn, alpha)\n",
    "  test(test_data_loader, model, loss_fn, alpha)"
   ]
  },
  {
   "cell_type": "code",
   "execution_count": 52,
   "metadata": {},
   "outputs": [],
   "source": [
    "# Tester avec une recon_loss = 0, une fois avec global_loss = 0, une fois avec total_loss = 0\n",
    "# recon_loss = 0 -> decoder ne doit pas être mis à jour mais encoder ok -> recon_test_loss haute, global et total loss basse\n",
    "# global_loss = 0 -> classifier ne doit pas être mis à jour mais encoder et decoder ok -> global_test_loss haute, recon et total loss basse\n",
    "# total_loss = 0 -> encoder ne doit pas être mis à jour mais classifier et decoder ok -> recon et global loss hautes"
   ]
  },
  {
   "cell_type": "code",
   "execution_count": 61,
   "metadata": {},
   "outputs": [
    {
     "data": {
      "image/png": "[encoded data removed]",
      "text/plain": [
       "<Figure size 640x480 with 1 Axes>"
      ]
     },
     "metadata": {},
     "output_type": "display_data"
    }
   ],
   "source": [
    "# recon_loss = 0 -> decoder ne doit pas être mis à jour mais encoder ok -> recon_test_loss haute, global et total loss basse\n",
    "import matplotlib.pyplot as plt\n",
    "fig = plt.figure()\n",
    "plt.plot(train_counter, train_losses, color='green', linestyle= 'dashed', linewidth = 4)\n",
    "plt.plot(train_counter, train_recon_losses, color='yellow')\n",
    "plt.plot(train_counter, train_global_losses, color='blue')\n",
    "plt.scatter(test_counter, test_losses, color='red')\n",
    "plt.legend(['Train Total', 'Train Recon', 'Train global', 'Test Total'], loc='upper right')\n",
    "plt.xlabel('Number of training examples seen')\n",
    "plt.ylabel('MSE Loss')\n",
    "plt.title(\"Alpha = 0.5, recon_loss = 0\")\n",
    "plt.savefig('Alpha=0.5,recon_loss=0.png', dpi=300, bbox_inches='tight')\n",
    "plt.show()"
   ]
  },
  {
   "cell_type": "code",
   "execution_count": null,
   "metadata": {},
   "outputs": [],
   "source": []
  }
 ],
 "metadata": {
  "kernelspec": {
   "display_name": "Python 3",
   "language": "python",
   "name": "python3"
  },
  "language_info": {
   "codemirror_mode": {
    "name": "ipython",
    "version": 3
   },
   "file_extension": ".py",
   "mimetype": "text/x-python",
   "name": "python",
   "nbconvert_exporter": "python",
   "pygments_lexer": "ipython3",
   "version": "3.11.9"
  }
 },
 "nbformat": 4,
 "nbformat_minor": 2
}
