{
 "cells": [
  {
   "cell_type": "markdown",
   "metadata": {},
   "source": [
    "# Combined network: \n",
    "\n",
    "- PV-Pyr unit --> Local network with self-supervised learning \n",
    "\n",
    "- SST-Pyr unit --> Global network with supervised learning\n",
    "\n",
    "\n",
    "TODO:\n",
    "- find this SST input ?\n",
    "\n",
    "- Quantify learning: ablation of specific inputs or total specific areas\n",
    "- Drop off of some units in specific areas or layers for example"
   ]
  },
  {
   "cell_type": "code",
   "execution_count": 1,
   "metadata": {},
   "outputs": [
    {
     "name": "stderr",
     "output_type": "stream",
     "text": [
      "/Users/irismarmouset-delataille/mambaforge/envs/localglobal/lib/python3.11/site-packages/torchvision/io/image.py:13: UserWarning: Failed to load image Python extension: 'dlopen(/Users/irismarmouset-delataille/mambaforge/envs/localglobal/lib/python3.11/site-packages/torchvision/image.so, 0x0006): Symbol not found: __ZN3c1017RegisterOperatorsD1Ev\n",
      "  Referenced from: <E03EDA44-89AE-3115-9796-62BA9E0E2EDE> /Users/irismarmouset-delataille/mambaforge/envs/localglobal/lib/python3.11/site-packages/torchvision/image.so\n",
      "  Expected in:     <E943EB88-577E-37A4-93E1-5DAFE97B5744> /Users/irismarmouset-delataille/mambaforge/envs/localglobal/lib/python3.11/site-packages/torch/lib/libtorch_cpu.dylib'If you don't plan on using image functionality from `torchvision.io`, you can ignore this warning. Otherwise, there might be something wrong with your environment. Did you have `libjpeg` or `libpng` installed before building `torchvision` from source?\n",
      "  warn(\n"
     ]
    },
    {
     "data": {
      "text/plain": [
       "<torch._C.Generator at 0x1077c2a70>"
      ]
     },
     "execution_count": 1,
     "metadata": {},
     "output_type": "execute_result"
    }
   ],
   "source": [
    "import os\n",
    "import torch\n",
    "import torchvision\n",
    "import torch.nn as nn\n",
    "import torch.nn.functional as F\n",
    "import torch.optim as optim\n",
    "# from skimage.metrics import structural_similarity as ssim\n",
    "import numpy as np\n",
    "\n",
    "random_seed = 1\n",
    "torch.backends.cudnn.enabled = False\n",
    "torch.manual_seed(random_seed)"
   ]
  },
  {
   "cell_type": "markdown",
   "metadata": {},
   "source": [
    "### Dataset"
   ]
  },
  {
   "cell_type": "code",
   "execution_count": 2,
   "metadata": {},
   "outputs": [
    {
     "name": "stdout",
     "output_type": "stream",
     "text": [
      "Train dataset size: 60000\n",
      "Test dataset size: 10000\n"
     ]
    }
   ],
   "source": [
    "from dataset import get_mnist_dataset\n",
    "working_directory = os.getcwd()\n",
    "data_dir = os.path.join(working_directory, './dataset')\n",
    "batch_size_train = 64\n",
    "batch_size_test = 1000\n",
    "\n",
    "train_data_loader, test_data_loader = get_mnist_dataset(data_dir, batch_size_train=batch_size_train, batch_size_test=batch_size_test)\n",
    "\n",
    "print('Train dataset size: {}'.format(len(train_data_loader.dataset)))\n",
    "print('Test dataset size: {}'.format(len(test_data_loader.dataset)))"
   ]
  },
  {
   "cell_type": "markdown",
   "metadata": {},
   "source": [
    "### Model"
   ]
  },
  {
   "cell_type": "code",
   "execution_count": 9,
   "metadata": {},
   "outputs": [
    {
     "name": "stdout",
     "output_type": "stream",
     "text": [
      "PV_SST_Pyr(\n",
      "  (PV): PV(\n",
      "    (Thal2PV): Thal2PV(\n",
      "      (flatten): Flatten()\n",
      "      (activation): Sigmoid()\n",
      "      (fc1): Linear(in_features=784, out_features=128, bias=True)\n",
      "      (fc2): Linear(in_features=128, out_features=64, bias=True)\n",
      "      (fc3): Linear(in_features=64, out_features=32, bias=True)\n",
      "    )\n",
      "    (PV2Pyr): PV2Pyr(\n",
      "      (activation): Sigmoid()\n",
      "      (fc1): Linear(in_features=32, out_features=64, bias=True)\n",
      "      (fc2): Linear(in_features=64, out_features=128, bias=True)\n",
      "      (fc3): Linear(in_features=128, out_features=784, bias=True)\n",
      "    )\n",
      "  )\n",
      "  (SST): SST(\n",
      "    (fc1): Linear(in_features=784, out_features=128, bias=True)\n",
      "    (fc2): Linear(in_features=128, out_features=64, bias=True)\n",
      "    (fc3): Linear(in_features=64, out_features=10, bias=True)\n",
      "    (flatten): Flatten()\n",
      "    (activation): Sigmoid()\n",
      "  )\n",
      ")\n"
     ]
    }
   ],
   "source": [
    "from modules.network import PV_SST_Pyr\n",
    "\n",
    "lr = 0.001\n",
    "momentum = 0.5\n",
    "\n",
    "\n",
    "model = PV_SST_Pyr(thal_input_dim=784, SST_input_dim=784, encoded_dim=32, output_dim=10)\n",
    "optim_PV = optim.SGD(model.parameters(), lr=lr,momentum=momentum)\n",
    "optim_SST = optim.SGD(model.parameters(), lr=lr,momentum=momentum)\n",
    "\n",
    "#optimizer = optim.Adam(model.parameters(), lr=0.001, betas=(0.9, 0.999))\n",
    "loss_fn = nn.MSELoss()\n",
    "alpha = 1\n",
    "\n",
    "print(model)"
   ]
  },
  {
   "cell_type": "code",
   "execution_count": 10,
   "metadata": {},
   "outputs": [
    {
     "name": "stdout",
     "output_type": "stream",
     "text": [
      "PV.Thal2PV.fc1.weight\n",
      "PV.Thal2PV.fc1.bias\n",
      "PV.Thal2PV.fc2.weight\n",
      "PV.Thal2PV.fc2.bias\n",
      "PV.Thal2PV.fc3.weight\n",
      "PV.Thal2PV.fc3.bias\n",
      "PV.PV2Pyr.fc1.weight\n",
      "PV.PV2Pyr.fc1.bias\n",
      "PV.PV2Pyr.fc2.weight\n",
      "PV.PV2Pyr.fc2.bias\n",
      "PV.PV2Pyr.fc3.weight\n",
      "PV.PV2Pyr.fc3.bias\n",
      "SST.fc1.weight\n",
      "SST.fc1.bias\n",
      "SST.fc2.weight\n",
      "SST.fc2.bias\n",
      "SST.fc3.weight\n",
      "SST.fc3.bias\n"
     ]
    }
   ],
   "source": [
    "for name, param in model.named_parameters():\n",
    "    print (name)   "
   ]
  },
  {
   "cell_type": "markdown",
   "metadata": {},
   "source": [
    "### Train & test"
   ]
  },
  {
   "cell_type": "code",
   "execution_count": 13,
   "metadata": {},
   "outputs": [],
   "source": [
    "num_epochs = 30\n",
    "log_interval = 300\n",
    "\n",
    "train_losses = []\n",
    "train_recon_losses = []\n",
    "train_global_losses = []\n",
    "train_counter = []\n",
    "test_losses = []\n",
    "test_counter = [i*len(train_data_loader.dataset) for i in range(num_epochs + 1)]\n",
    "\n",
    "def train(epoch, dataloader, model, optim_PV, optim_SST, loss_fn, alpha =1):\n",
    "    recon_loss_avg = 0\n",
    "    global_loss_avg = 0\n",
    "    loss_avg = 0\n",
    "    model.train() \n",
    "    for batch_idx, batch in enumerate(dataloader):\n",
    "        thal_input, _ = batch\n",
    "        SST_input, target = batch  \n",
    "        t = F.one_hot(target, num_classes=10).float()\n",
    "        _, decoded, output = model(thal_input, SST_input)\n",
    "\n",
    "        recon_loss = loss_fn(decoded, thal_input) \n",
    "        global_loss = loss_fn(output, t)\n",
    "        total_loss = alpha*recon_loss + global_loss\n",
    "        recon_loss_avg += recon_loss.item()\n",
    "        global_loss_avg += global_loss.item()\n",
    "        loss_avg += total_loss.item()\n",
    "\n",
    "        optim_PV.zero_grad()\n",
    "        recon_loss.backward(retain_graph=True)\n",
    "        optim_PV.step()\n",
    "        for param in model.PV.parameters():\n",
    "            param.grad = None\n",
    "        optim_SST.zero_grad()\n",
    "        global_loss.backward()\n",
    "        optim_SST.step()\n",
    "\n",
    "\n",
    "        if batch_idx % log_interval == 0:\n",
    "            train_losses.append(total_loss.item())\n",
    "            train_recon_losses.append(recon_loss.item())\n",
    "            train_global_losses.append(global_loss.item())\n",
    "            train_counter.append((batch_idx*64) + ((epoch-1)*len(dataloader.dataset)))\n",
    "\n",
    "    recon_loss_avg, global_loss_avg, loss_avg = (loss / len(dataloader) for loss in (recon_loss_avg, global_loss_avg, loss_avg))\n",
    "    print('Epoch: {} Recon_loss: {:.6f} Global_loss: {:.6f}  Total loss: {:.6f}'.format(epoch, recon_loss_avg, global_loss_avg, loss_avg))\n",
    "\n",
    "def test(dataloader, model, loss_fn):\n",
    "    model.eval()\n",
    "    recon_loss_avg = 0\n",
    "    global_loss_avg = 0\n",
    "    test_loss_avg = 0\n",
    "    with torch.no_grad():\n",
    "        for batch in dataloader:\n",
    "            thal_input, _ = batch\n",
    "            SST_input, target = batch  \n",
    "            t = F.one_hot(target, num_classes=10).float()\n",
    "            _, decoded, output = model(thal_input, SST_input)\n",
    "\n",
    "            recon_loss = loss_fn(decoded, thal_input)) \n",
    "            global_loss = loss_fn(output, t)\n",
    "            total_loss = recon_loss + global_loss\n",
    "            recon_loss_avg += recon_loss.item()\n",
    "            global_loss_avg += global_loss.item()\n",
    "            test_loss_avg += total_loss.item()\n",
    "            #ssim_score = calculate_ssim(recon, inputs)\n",
    "            \n",
    "    recon_loss_avg, global_loss_avg, test_loss_avg = (loss / len(dataloader) for loss in (recon_loss_avg, global_loss_avg, test_loss_avg))\n",
    "    test_losses.append(test_loss_avg)\n",
    "    print('Test set: Recon_loss: {:.6f} Global_loss: {:.6f} Total loss: {:.6f}\\n'.format(recon_loss_avg, global_loss_avg, test_loss_avg))\n",
    "    \n"
   ]
  },
  {
   "cell_type": "code",
   "execution_count": 14,
   "metadata": {},
   "outputs": [
    {
     "name": "stderr",
     "output_type": "stream",
     "text": [
      "/Users/irismarmouset-delataille/mambaforge/envs/localglobal/lib/python3.11/site-packages/torch/nn/modules/loss.py:535: UserWarning: Using a target size (torch.Size([784000])) that is different to the input size (torch.Size([1000, 784])). This will likely lead to incorrect results due to broadcasting. Please ensure they have the same size.\n",
      "  return F.mse_loss(input, target, reduction=self.reduction)\n"
     ]
    },
    {
     "ename": "RuntimeError",
     "evalue": "The size of tensor a (784) must match the size of tensor b (784000) at non-singleton dimension 1",
     "output_type": "error",
     "traceback": [
      "\u001b[0;31m---------------------------------------------------------------------------\u001b[0m",
      "\u001b[0;31mRuntimeError\u001b[0m                              Traceback (most recent call last)",
      "Cell \u001b[0;32mIn[14], line 1\u001b[0m\n\u001b[0;32m----> 1\u001b[0m test(test_data_loader, model, loss_fn)\n\u001b[1;32m      3\u001b[0m \u001b[38;5;28;01mfor\u001b[39;00m epoch \u001b[38;5;129;01min\u001b[39;00m \u001b[38;5;28mrange\u001b[39m(\u001b[38;5;241m1\u001b[39m, num_epochs \u001b[38;5;241m+\u001b[39m \u001b[38;5;241m1\u001b[39m):\n\u001b[1;32m      4\u001b[0m   train(epoch, train_data_loader, model, optim_PV, optim_SST, loss_fn, alpha)\n",
      "Cell \u001b[0;32mIn[13], line 60\u001b[0m, in \u001b[0;36mtest\u001b[0;34m(dataloader, model, loss_fn)\u001b[0m\n\u001b[1;32m     57\u001b[0m t \u001b[38;5;241m=\u001b[39m F\u001b[38;5;241m.\u001b[39mone_hot(target, num_classes\u001b[38;5;241m=\u001b[39m\u001b[38;5;241m10\u001b[39m)\u001b[38;5;241m.\u001b[39mfloat()\n\u001b[1;32m     58\u001b[0m _, decoded, output \u001b[38;5;241m=\u001b[39m model(thal_input, SST_input)\n\u001b[0;32m---> 60\u001b[0m recon_loss \u001b[38;5;241m=\u001b[39m loss_fn(decoded, thal_input\u001b[38;5;241m.\u001b[39mview(\u001b[38;5;241m-\u001b[39m\u001b[38;5;241m1\u001b[39m)) \n\u001b[1;32m     61\u001b[0m global_loss \u001b[38;5;241m=\u001b[39m loss_fn(output, t)\n\u001b[1;32m     62\u001b[0m total_loss \u001b[38;5;241m=\u001b[39m recon_loss \u001b[38;5;241m+\u001b[39m global_loss\n",
      "File \u001b[0;32m~/mambaforge/envs/localglobal/lib/python3.11/site-packages/torch/nn/modules/module.py:1511\u001b[0m, in \u001b[0;36mModule._wrapped_call_impl\u001b[0;34m(self, *args, **kwargs)\u001b[0m\n\u001b[1;32m   1509\u001b[0m     \u001b[38;5;28;01mreturn\u001b[39;00m \u001b[38;5;28mself\u001b[39m\u001b[38;5;241m.\u001b[39m_compiled_call_impl(\u001b[38;5;241m*\u001b[39margs, \u001b[38;5;241m*\u001b[39m\u001b[38;5;241m*\u001b[39mkwargs)  \u001b[38;5;66;03m# type: ignore[misc]\u001b[39;00m\n\u001b[1;32m   1510\u001b[0m \u001b[38;5;28;01melse\u001b[39;00m:\n\u001b[0;32m-> 1511\u001b[0m     \u001b[38;5;28;01mreturn\u001b[39;00m \u001b[38;5;28mself\u001b[39m\u001b[38;5;241m.\u001b[39m_call_impl(\u001b[38;5;241m*\u001b[39margs, \u001b[38;5;241m*\u001b[39m\u001b[38;5;241m*\u001b[39mkwargs)\n",
      "File \u001b[0;32m~/mambaforge/envs/localglobal/lib/python3.11/site-packages/torch/nn/modules/module.py:1520\u001b[0m, in \u001b[0;36mModule._call_impl\u001b[0;34m(self, *args, **kwargs)\u001b[0m\n\u001b[1;32m   1515\u001b[0m \u001b[38;5;66;03m# If we don't have any hooks, we want to skip the rest of the logic in\u001b[39;00m\n\u001b[1;32m   1516\u001b[0m \u001b[38;5;66;03m# this function, and just call forward.\u001b[39;00m\n\u001b[1;32m   1517\u001b[0m \u001b[38;5;28;01mif\u001b[39;00m \u001b[38;5;129;01mnot\u001b[39;00m (\u001b[38;5;28mself\u001b[39m\u001b[38;5;241m.\u001b[39m_backward_hooks \u001b[38;5;129;01mor\u001b[39;00m \u001b[38;5;28mself\u001b[39m\u001b[38;5;241m.\u001b[39m_backward_pre_hooks \u001b[38;5;129;01mor\u001b[39;00m \u001b[38;5;28mself\u001b[39m\u001b[38;5;241m.\u001b[39m_forward_hooks \u001b[38;5;129;01mor\u001b[39;00m \u001b[38;5;28mself\u001b[39m\u001b[38;5;241m.\u001b[39m_forward_pre_hooks\n\u001b[1;32m   1518\u001b[0m         \u001b[38;5;129;01mor\u001b[39;00m _global_backward_pre_hooks \u001b[38;5;129;01mor\u001b[39;00m _global_backward_hooks\n\u001b[1;32m   1519\u001b[0m         \u001b[38;5;129;01mor\u001b[39;00m _global_forward_hooks \u001b[38;5;129;01mor\u001b[39;00m _global_forward_pre_hooks):\n\u001b[0;32m-> 1520\u001b[0m     \u001b[38;5;28;01mreturn\u001b[39;00m forward_call(\u001b[38;5;241m*\u001b[39margs, \u001b[38;5;241m*\u001b[39m\u001b[38;5;241m*\u001b[39mkwargs)\n\u001b[1;32m   1522\u001b[0m \u001b[38;5;28;01mtry\u001b[39;00m:\n\u001b[1;32m   1523\u001b[0m     result \u001b[38;5;241m=\u001b[39m \u001b[38;5;28;01mNone\u001b[39;00m\n",
      "File \u001b[0;32m~/mambaforge/envs/localglobal/lib/python3.11/site-packages/torch/nn/modules/loss.py:535\u001b[0m, in \u001b[0;36mMSELoss.forward\u001b[0;34m(self, input, target)\u001b[0m\n\u001b[1;32m    534\u001b[0m \u001b[38;5;28;01mdef\u001b[39;00m \u001b[38;5;21mforward\u001b[39m(\u001b[38;5;28mself\u001b[39m, \u001b[38;5;28minput\u001b[39m: Tensor, target: Tensor) \u001b[38;5;241m-\u001b[39m\u001b[38;5;241m>\u001b[39m Tensor:\n\u001b[0;32m--> 535\u001b[0m     \u001b[38;5;28;01mreturn\u001b[39;00m F\u001b[38;5;241m.\u001b[39mmse_loss(\u001b[38;5;28minput\u001b[39m, target, reduction\u001b[38;5;241m=\u001b[39m\u001b[38;5;28mself\u001b[39m\u001b[38;5;241m.\u001b[39mreduction)\n",
      "File \u001b[0;32m~/mambaforge/envs/localglobal/lib/python3.11/site-packages/torch/nn/functional.py:3338\u001b[0m, in \u001b[0;36mmse_loss\u001b[0;34m(input, target, size_average, reduce, reduction)\u001b[0m\n\u001b[1;32m   3335\u001b[0m \u001b[38;5;28;01mif\u001b[39;00m size_average \u001b[38;5;129;01mis\u001b[39;00m \u001b[38;5;129;01mnot\u001b[39;00m \u001b[38;5;28;01mNone\u001b[39;00m \u001b[38;5;129;01mor\u001b[39;00m reduce \u001b[38;5;129;01mis\u001b[39;00m \u001b[38;5;129;01mnot\u001b[39;00m \u001b[38;5;28;01mNone\u001b[39;00m:\n\u001b[1;32m   3336\u001b[0m     reduction \u001b[38;5;241m=\u001b[39m _Reduction\u001b[38;5;241m.\u001b[39mlegacy_get_string(size_average, reduce)\n\u001b[0;32m-> 3338\u001b[0m expanded_input, expanded_target \u001b[38;5;241m=\u001b[39m torch\u001b[38;5;241m.\u001b[39mbroadcast_tensors(\u001b[38;5;28minput\u001b[39m, target)\n\u001b[1;32m   3339\u001b[0m \u001b[38;5;28;01mreturn\u001b[39;00m torch\u001b[38;5;241m.\u001b[39m_C\u001b[38;5;241m.\u001b[39m_nn\u001b[38;5;241m.\u001b[39mmse_loss(expanded_input, expanded_target, _Reduction\u001b[38;5;241m.\u001b[39mget_enum(reduction))\n",
      "File \u001b[0;32m~/mambaforge/envs/localglobal/lib/python3.11/site-packages/torch/functional.py:76\u001b[0m, in \u001b[0;36mbroadcast_tensors\u001b[0;34m(*tensors)\u001b[0m\n\u001b[1;32m     74\u001b[0m \u001b[38;5;28;01mif\u001b[39;00m has_torch_function(tensors):\n\u001b[1;32m     75\u001b[0m     \u001b[38;5;28;01mreturn\u001b[39;00m handle_torch_function(broadcast_tensors, tensors, \u001b[38;5;241m*\u001b[39mtensors)\n\u001b[0;32m---> 76\u001b[0m \u001b[38;5;28;01mreturn\u001b[39;00m _VF\u001b[38;5;241m.\u001b[39mbroadcast_tensors(tensors)\n",
      "\u001b[0;31mRuntimeError\u001b[0m: The size of tensor a (784) must match the size of tensor b (784000) at non-singleton dimension 1"
     ]
    }
   ],
   "source": [
    "test(test_data_loader, model, loss_fn)\n",
    "\n",
    "for epoch in range(1, num_epochs + 1):\n",
    "  train(epoch, train_data_loader, model, optim_PV, optim_SST, loss_fn, alpha)\n",
    "  test(test_data_loader, model, loss_fn)"
   ]
  },
  {
   "cell_type": "code",
   "execution_count": 7,
   "metadata": {},
   "outputs": [
    {
     "data": {
      "image/png": "[encoded data removed]",
      "text/plain": [
       "<Figure size 640x480 with 1 Axes>"
      ]
     },
     "metadata": {},
     "output_type": "display_data"
    }
   ],
   "source": [
    "import matplotlib.pyplot as plt\n",
    "fig = plt.figure()\n",
    "plt.plot(train_counter, train_losses, color='green')\n",
    "plt.plot(train_counter, train_recon_losses, color='yellow')\n",
    "plt.plot(train_counter, train_global_losses, color='blue')\n",
    "plt.scatter(test_counter, test_losses, color='red')\n",
    "plt.legend(['Train Total', 'Train Recon', 'Train Global','Test Total'], loc='upper right')\n",
    "plt.xlabel('Number of training examples seen')\n",
    "plt.ylabel('MSE Loss')\n",
    "plt.title(\"Losses across learning\")\n",
    "\n",
    "plt.savefig('optADAM,lr0.001,betas0.9,0.999.png')"
   ]
  },
  {
   "cell_type": "code",
   "execution_count": null,
   "metadata": {},
   "outputs": [],
   "source": []
  }
 ],
 "metadata": {
  "kernelspec": {
   "display_name": "Python 3",
   "language": "python",
   "name": "python3"
  },
  "language_info": {
   "codemirror_mode": {
    "name": "ipython",
    "version": 3
   },
   "file_extension": ".py",
   "mimetype": "text/x-python",
   "name": "python",
   "nbconvert_exporter": "python",
   "pygments_lexer": "ipython3",
   "version": "3.11.9"
  }
 },
 "nbformat": 4,
 "nbformat_minor": 2
}
