{
 "cells": [
  {
   "cell_type": "markdown",
   "metadata": {},
   "source": [
    "# Combined network: \n",
    "\n",
    "- PV-Pyr network --> Local network with self-supervised learning \n",
    "\n",
    "- SST-Pyr netork --> Global network with supervised learning\n",
    "\n",
    "\n",
    "TODO:\n",
    "- find this SST input ?\n",
    "\n",
    "- Quantify learning: ablation of specific inputs or total specific areas\n",
    "- Drop off of some units in specific areas or layers for example"
   ]
  },
  {
   "cell_type": "code",
   "execution_count": 1,
   "metadata": {},
   "outputs": [
    {
     "name": "stderr",
     "output_type": "stream",
     "text": [
      "/Users/irismarmouset-delataille/mambaforge/envs/localglobal/lib/python3.11/site-packages/torchvision/io/image.py:13: UserWarning: Failed to load image Python extension: 'dlopen(/Users/irismarmouset-delataille/mambaforge/envs/localglobal/lib/python3.11/site-packages/torchvision/image.so, 0x0006): Symbol not found: __ZN3c1017RegisterOperatorsD1Ev\n",
      "  Referenced from: <E03EDA44-89AE-3115-9796-62BA9E0E2EDE> /Users/irismarmouset-delataille/mambaforge/envs/localglobal/lib/python3.11/site-packages/torchvision/image.so\n",
      "  Expected in:     <E943EB88-577E-37A4-93E1-5DAFE97B5744> /Users/irismarmouset-delataille/mambaforge/envs/localglobal/lib/python3.11/site-packages/torch/lib/libtorch_cpu.dylib'If you don't plan on using image functionality from `torchvision.io`, you can ignore this warning. Otherwise, there might be something wrong with your environment. Did you have `libjpeg` or `libpng` installed before building `torchvision` from source?\n",
      "  warn(\n"
     ]
    },
    {
     "data": {
      "text/plain": [
       "<torch._C.Generator at 0x10e1c2a90>"
      ]
     },
     "execution_count": 1,
     "metadata": {},
     "output_type": "execute_result"
    }
   ],
   "source": [
    "import os\n",
    "import torch\n",
    "import torchvision\n",
    "import torch.nn as nn\n",
    "import torch.nn.functional as F\n",
    "import torch.optim as optim\n",
    "\n",
    "random_seed = 1\n",
    "torch.backends.cudnn.enabled = False\n",
    "torch.manual_seed(random_seed)"
   ]
  },
  {
   "cell_type": "markdown",
   "metadata": {},
   "source": [
    "### Dataset"
   ]
  },
  {
   "cell_type": "code",
   "execution_count": 2,
   "metadata": {},
   "outputs": [
    {
     "name": "stdout",
     "output_type": "stream",
     "text": [
      "Train dataset size: 60000\n",
      "Test dataset size: 10000\n"
     ]
    }
   ],
   "source": [
    "from dataset import get_mnist_dataset\n",
    "working_directory = os.getcwd()\n",
    "data_dir = os.path.join(working_directory, './dataset')\n",
    "batch_size_train = 64\n",
    "batch_size_test = 1000\n",
    "\n",
    "train_data_loader, test_data_loader = get_mnist_dataset(data_dir, batch_size_train=batch_size_train, batch_size_test=batch_size_test)\n",
    "\n",
    "print('Train dataset size: {}'.format(len(train_data_loader.dataset)))\n",
    "print('Test dataset size: {}'.format(len(test_data_loader.dataset)))"
   ]
  },
  {
   "cell_type": "markdown",
   "metadata": {},
   "source": [
    "### Model"
   ]
  },
  {
   "cell_type": "code",
   "execution_count": 3,
   "metadata": {},
   "outputs": [
    {
     "name": "stdout",
     "output_type": "stream",
     "text": [
      "CombinedNetwork(\n",
      "  (PV): PV(\n",
      "    (flatten): Flatten()\n",
      "    (fc1): Linear(in_features=784, out_features=784, bias=True)\n",
      "    (activation): Sigmoid()\n",
      "    (fc2): Linear(in_features=784, out_features=128, bias=True)\n",
      "  )\n",
      "  (SST): SST(\n",
      "    (flatten): Flatten()\n",
      "    (fc1): Linear(in_features=784, out_features=784, bias=True)\n",
      "    (fc2): Linear(in_features=784, out_features=784, bias=True)\n",
      "    (fc3): Linear(in_features=784, out_features=128, bias=True)\n",
      "    (activation): Sigmoid()\n",
      "  )\n",
      "  (Pyr): PyrCombined(\n",
      "    (activation): Sigmoid()\n",
      "    (flatten): Flatten()\n",
      "    (fc1): Linear(in_features=128, out_features=784, bias=True)\n",
      "    (fc2): Linear(in_features=784, out_features=128, bias=True)\n",
      "    (fc3): Linear(in_features=128, out_features=10, bias=True)\n",
      "  )\n",
      "  (Decoder): Decoder(\n",
      "    (fc1): Linear(in_features=10, out_features=784, bias=True)\n",
      "  )\n",
      ")\n"
     ]
    }
   ],
   "source": [
    "from modules.network import CombinedNetwork\n",
    "# from skimage.metrics import structural_similarity as ssim\n",
    "import numpy as np\n",
    "\n",
    "lr = 0.001\n",
    "momentum = 0.5\n",
    "\n",
    "\n",
    "model = CombinedNetwork(thal_input_dim=784, td_input_dim = 784, latent_dim = 128 ,topdown_dim = 128, output_dim=10)\n",
    "#optimizer = optim.SGD(model.parameters(), lr=lr,momentum=momentum)\n",
    "optimizer = optim.Adam(model.parameters(), lr=0.001, betas=(0.9, 0.999))\n",
    "loss_fn = nn.MSELoss()\n",
    "\n",
    "print(model)"
   ]
  },
  {
   "cell_type": "code",
   "execution_count": 4,
   "metadata": {},
   "outputs": [
    {
     "name": "stdout",
     "output_type": "stream",
     "text": [
      "PV.fc1.weight\n",
      "PV.fc1.bias\n",
      "PV.fc2.weight\n",
      "PV.fc2.bias\n",
      "SST.fc1.weight\n",
      "SST.fc1.bias\n",
      "SST.fc2.weight\n",
      "SST.fc2.bias\n",
      "SST.fc3.weight\n",
      "SST.fc3.bias\n",
      "Pyr.fc1.weight\n",
      "Pyr.fc1.bias\n",
      "Pyr.fc2.weight\n",
      "Pyr.fc2.bias\n",
      "Pyr.fc3.weight\n",
      "Pyr.fc3.bias\n",
      "Decoder.fc1.weight\n",
      "Decoder.fc1.bias\n"
     ]
    }
   ],
   "source": [
    "for name, param in model.named_parameters():\n",
    "    print (name)"
   ]
  },
  {
   "cell_type": "markdown",
   "metadata": {},
   "source": [
    "### Train & test"
   ]
  },
  {
   "cell_type": "code",
   "execution_count": 5,
   "metadata": {},
   "outputs": [],
   "source": [
    "from modules.utils import calculate_ssim, weight_update, loss_combined\n",
    "\n",
    "\n",
    "num_epochs = 50\n",
    "log_interval = 300\n",
    "\n",
    "train_losses = []\n",
    "train_pred_losses = []\n",
    "train_recon_losses = []\n",
    "train_global_losses = []\n",
    "train_counter = []\n",
    "test_losses = []\n",
    "test_counter = [i*len(train_data_loader.dataset) for i in range(num_epochs + 1)]\n",
    "\n",
    "def train(epoch, dataloader, model, optimizer, loss_fn):\n",
    "    pred_loss_avg = 0\n",
    "    recon_loss_avg = 0\n",
    "    global_loss_avg = 0\n",
    "    loss_avg = 0\n",
    "    model.train() \n",
    "    for batch_idx, batch in enumerate(dataloader):\n",
    "        inputPV, _ = batch\n",
    "        inputPyr, target = batch  \n",
    "        t = F.one_hot(target, num_classes=10).float()\n",
    "        inputSST, _ = batch \n",
    "        optimizer.zero_grad()\n",
    "        top_down, _, PV_pred, Pyr_pred, Pyr_out, recon = model(inputSST, inputPV, inputPyr)\n",
    "\n",
    "        total_loss, global_loss, pred_loss, recon_loss = loss_combined(loss_fn, t, PV_pred, Pyr_pred, Pyr_out, recon, inputPyr)\n",
    "\n",
    "        weight_update(model, optimizer, total_loss, recon_loss)\n",
    "        #pred_loss_avg += pred_loss.item()\n",
    "        recon_loss_avg += recon_loss.item()\n",
    "        global_loss_avg += global_loss.item()\n",
    "        loss_avg += total_loss.item()\n",
    "\n",
    "        if batch_idx % log_interval == 0:\n",
    "            train_losses.append(total_loss.item())\n",
    "            #train_pred_losses.append(pred_loss.item())\n",
    "            train_recon_losses.append(recon_loss.item())\n",
    "            train_global_losses.append(global_loss.item())\n",
    "            train_counter.append((batch_idx*64) + ((epoch-1)*len(dataloader.dataset)))\n",
    "\n",
    "    recon_loss_avg, pred_loss_avg, global_loss_avg, loss_avg = (loss / len(dataloader) for loss in (recon_loss_avg, pred_loss_avg, global_loss_avg, loss_avg))\n",
    "    print('Epoch: {} Pred_loss: {:.6f} Recon_loss: {:.6f} Global_loss: {:.6f}  Total loss: {:.6f}'.format(epoch, pred_loss_avg, recon_loss_avg, global_loss_avg, loss_avg))\n",
    "\n",
    "def test(dataloader, model, loss_fn):\n",
    "    model.eval()\n",
    "    pred_loss_avg = 0\n",
    "    recon_loss_avg = 0\n",
    "    global_loss_avg = 0\n",
    "    test_loss_avg = 0\n",
    "    with torch.no_grad():\n",
    "        for batch in dataloader:\n",
    "            inputPV, _ = batch\n",
    "            inputPyr, target = batch  \n",
    "            t = F.one_hot(target, num_classes=10).float()\n",
    "            inputSST, _ = batch \n",
    "            top_down, _, PV_pred, Pyr_pred, Pyr_out, recon  = model(inputSST, inputPV, inputPyr)\n",
    "\n",
    "            total_loss, global_loss, pred_loss, recon_loss = loss_combined(loss_fn, t, PV_pred, Pyr_pred, Pyr_out, recon, inputPyr)\n",
    "            #pred_loss_avg += pred_loss.item()\n",
    "            recon_loss_avg += recon_loss.item()\n",
    "            global_loss_avg += global_loss.item()\n",
    "            test_loss_avg += total_loss.item()\n",
    "            #ssim_score = calculate_ssim(recon, inputs)\n",
    "            \n",
    "    recon_loss_avg, pred_loss_avg, global_loss_avg, test_loss_avg = (loss / len(dataloader) for loss in (recon_loss_avg, pred_loss_avg, global_loss_avg, test_loss_avg))\n",
    "    test_losses.append(test_loss_avg)\n",
    "    print('Test set: Pred_loss: {:.6f}  Recon_loss: {:.6f} Global_loss: {:.6f} Total loss: {:.6f}\\n'.format(pred_loss_avg, recon_loss_avg, global_loss_avg, test_loss_avg))\n",
    "    \n"
   ]
  },
  {
   "cell_type": "code",
   "execution_count": 6,
   "metadata": {},
   "outputs": [
    {
     "name": "stdout",
     "output_type": "stream",
     "text": [
      "Test set: Pred_loss: 0.000000  Recon_loss: 1.124416 Global_loss: 0.272525 Total loss: 1.396941\n",
      "\n",
      "Epoch: 1 Pred_loss: 0.000000 Recon_loss: 0.669394 Global_loss: 0.054613  Total loss: 0.724007\n",
      "Test set: Pred_loss: 0.000000  Recon_loss: 0.533275 Global_loss: 0.036633 Total loss: 0.569908\n",
      "\n",
      "Epoch: 2 Pred_loss: 0.000000 Recon_loss: 0.493605 Global_loss: 0.035371  Total loss: 0.528975\n",
      "Test set: Pred_loss: 0.000000  Recon_loss: 0.460183 Global_loss: 0.036331 Total loss: 0.496514\n",
      "\n",
      "Epoch: 3 Pred_loss: 0.000000 Recon_loss: 0.446193 Global_loss: 0.038851  Total loss: 0.485044\n",
      "Test set: Pred_loss: 0.000000  Recon_loss: 0.427630 Global_loss: 0.041112 Total loss: 0.468742\n",
      "\n",
      "Epoch: 4 Pred_loss: 0.000000 Recon_loss: 0.422349 Global_loss: 0.042772  Total loss: 0.465122\n",
      "Test set: Pred_loss: 0.000000  Recon_loss: 0.409813 Global_loss: 0.044576 Total loss: 0.454389\n",
      "\n",
      "Epoch: 5 Pred_loss: 0.000000 Recon_loss: 0.408493 Global_loss: 0.045533  Total loss: 0.454025\n",
      "Test set: Pred_loss: 0.000000  Recon_loss: 0.399117 Global_loss: 0.046650 Total loss: 0.445767\n",
      "\n",
      "Epoch: 6 Pred_loss: 0.000000 Recon_loss: 0.399814 Global_loss: 0.047407  Total loss: 0.447220\n",
      "Test set: Pred_loss: 0.000000  Recon_loss: 0.391826 Global_loss: 0.048569 Total loss: 0.440395\n",
      "\n",
      "Epoch: 7 Pred_loss: 0.000000 Recon_loss: 0.394150 Global_loss: 0.048695  Total loss: 0.442845\n",
      "Test set: Pred_loss: 0.000000  Recon_loss: 0.387945 Global_loss: 0.048933 Total loss: 0.436878\n",
      "\n",
      "Epoch: 8 Pred_loss: 0.000000 Recon_loss: 0.390171 Global_loss: 0.049651  Total loss: 0.439822\n",
      "Test set: Pred_loss: 0.000000  Recon_loss: 0.384109 Global_loss: 0.050173 Total loss: 0.434281\n",
      "\n",
      "Epoch: 9 Pred_loss: 0.000000 Recon_loss: 0.387325 Global_loss: 0.050327  Total loss: 0.437652\n",
      "Test set: Pred_loss: 0.000000  Recon_loss: 0.381678 Global_loss: 0.050775 Total loss: 0.432453\n",
      "\n",
      "Epoch: 10 Pred_loss: 0.000000 Recon_loss: 0.385202 Global_loss: 0.050874  Total loss: 0.436077\n",
      "Test set: Pred_loss: 0.000000  Recon_loss: 0.380557 Global_loss: 0.050892 Total loss: 0.431448\n",
      "\n",
      "Epoch: 11 Pred_loss: 0.000000 Recon_loss: 0.383572 Global_loss: 0.051266  Total loss: 0.434838\n",
      "Test set: Pred_loss: 0.000000  Recon_loss: 0.378357 Global_loss: 0.051695 Total loss: 0.430052\n",
      "\n",
      "Epoch: 12 Pred_loss: 0.000000 Recon_loss: 0.382301 Global_loss: 0.051582  Total loss: 0.433883\n",
      "Test set: Pred_loss: 0.000000  Recon_loss: 0.377466 Global_loss: 0.051915 Total loss: 0.429382\n",
      "\n",
      "Epoch: 13 Pred_loss: 0.000000 Recon_loss: 0.381172 Global_loss: 0.051900  Total loss: 0.433072\n",
      "Test set: Pred_loss: 0.000000  Recon_loss: 0.376622 Global_loss: 0.051769 Total loss: 0.428390\n",
      "\n",
      "Epoch: 14 Pred_loss: 0.000000 Recon_loss: 0.380329 Global_loss: 0.052114  Total loss: 0.432443\n",
      "Test set: Pred_loss: 0.000000  Recon_loss: 0.375372 Global_loss: 0.052548 Total loss: 0.427919\n",
      "\n",
      "Epoch: 15 Pred_loss: 0.000000 Recon_loss: 0.379562 Global_loss: 0.052314  Total loss: 0.431876\n",
      "Test set: Pred_loss: 0.000000  Recon_loss: 0.375290 Global_loss: 0.052217 Total loss: 0.427507\n",
      "\n",
      "Epoch: 16 Pred_loss: 0.000000 Recon_loss: 0.378947 Global_loss: 0.052506  Total loss: 0.431453\n",
      "Test set: Pred_loss: 0.000000  Recon_loss: 0.374905 Global_loss: 0.052181 Total loss: 0.427086\n",
      "\n",
      "Epoch: 17 Pred_loss: 0.000000 Recon_loss: 0.378383 Global_loss: 0.052619  Total loss: 0.431002\n",
      "Test set: Pred_loss: 0.000000  Recon_loss: 0.374524 Global_loss: 0.052260 Total loss: 0.426784\n",
      "\n",
      "Epoch: 18 Pred_loss: 0.000000 Recon_loss: 0.377915 Global_loss: 0.052770  Total loss: 0.430684\n",
      "Test set: Pred_loss: 0.000000  Recon_loss: 0.373669 Global_loss: 0.052634 Total loss: 0.426303\n",
      "\n",
      "Epoch: 19 Pred_loss: 0.000000 Recon_loss: 0.377523 Global_loss: 0.052865  Total loss: 0.430388\n",
      "Test set: Pred_loss: 0.000000  Recon_loss: 0.373052 Global_loss: 0.053013 Total loss: 0.426065\n",
      "\n",
      "Epoch: 20 Pred_loss: 0.000000 Recon_loss: 0.377104 Global_loss: 0.052988  Total loss: 0.430092\n",
      "Test set: Pred_loss: 0.000000  Recon_loss: 0.372764 Global_loss: 0.053028 Total loss: 0.425792\n",
      "\n",
      "Epoch: 21 Pred_loss: 0.000000 Recon_loss: 0.376820 Global_loss: 0.053067  Total loss: 0.429887\n",
      "Test set: Pred_loss: 0.000000  Recon_loss: 0.372503 Global_loss: 0.053119 Total loss: 0.425621\n",
      "\n",
      "Epoch: 22 Pred_loss: 0.000000 Recon_loss: 0.376504 Global_loss: 0.053138  Total loss: 0.429642\n",
      "Test set: Pred_loss: 0.000000  Recon_loss: 0.372198 Global_loss: 0.053165 Total loss: 0.425363\n",
      "\n",
      "Epoch: 23 Pred_loss: 0.000000 Recon_loss: 0.376270 Global_loss: 0.053209  Total loss: 0.429478\n",
      "Test set: Pred_loss: 0.000000  Recon_loss: 0.371904 Global_loss: 0.053293 Total loss: 0.425197\n",
      "\n",
      "Epoch: 24 Pred_loss: 0.000000 Recon_loss: 0.376001 Global_loss: 0.053292  Total loss: 0.429293\n",
      "Test set: Pred_loss: 0.000000  Recon_loss: 0.371875 Global_loss: 0.053142 Total loss: 0.425016\n",
      "\n",
      "Epoch: 25 Pred_loss: 0.000000 Recon_loss: 0.375824 Global_loss: 0.053331  Total loss: 0.429155\n",
      "Test set: Pred_loss: 0.000000  Recon_loss: 0.372004 Global_loss: 0.053015 Total loss: 0.425019\n",
      "\n",
      "Epoch: 26 Pred_loss: 0.000000 Recon_loss: 0.375632 Global_loss: 0.053388  Total loss: 0.429020\n",
      "Test set: Pred_loss: 0.000000  Recon_loss: 0.371480 Global_loss: 0.053246 Total loss: 0.424726\n",
      "\n",
      "Epoch: 27 Pred_loss: 0.000000 Recon_loss: 0.375442 Global_loss: 0.053447  Total loss: 0.428889\n",
      "Test set: Pred_loss: 0.000000  Recon_loss: 0.371377 Global_loss: 0.053332 Total loss: 0.424709\n",
      "\n",
      "Epoch: 28 Pred_loss: 0.000000 Recon_loss: 0.375290 Global_loss: 0.053470  Total loss: 0.428760\n",
      "Test set: Pred_loss: 0.000000  Recon_loss: 0.371001 Global_loss: 0.053447 Total loss: 0.424448\n",
      "\n",
      "Epoch: 29 Pred_loss: 0.000000 Recon_loss: 0.375134 Global_loss: 0.053529  Total loss: 0.428663\n",
      "Test set: Pred_loss: 0.000000  Recon_loss: 0.371072 Global_loss: 0.053324 Total loss: 0.424396\n",
      "\n",
      "Epoch: 30 Pred_loss: 0.000000 Recon_loss: 0.374988 Global_loss: 0.053565  Total loss: 0.428553\n",
      "Test set: Pred_loss: 0.000000  Recon_loss: 0.371004 Global_loss: 0.053362 Total loss: 0.424366\n",
      "\n",
      "Epoch: 31 Pred_loss: 0.000000 Recon_loss: 0.374909 Global_loss: 0.053567  Total loss: 0.428475\n",
      "Test set: Pred_loss: 0.000000  Recon_loss: 0.370812 Global_loss: 0.053394 Total loss: 0.424206\n",
      "\n",
      "Epoch: 32 Pred_loss: 0.000000 Recon_loss: 0.374754 Global_loss: 0.053620  Total loss: 0.428374\n",
      "Test set: Pred_loss: 0.000000  Recon_loss: 0.370876 Global_loss: 0.053246 Total loss: 0.424121\n",
      "\n",
      "Epoch: 33 Pred_loss: 0.000000 Recon_loss: 0.374659 Global_loss: 0.053630  Total loss: 0.428289\n",
      "Test set: Pred_loss: 0.000000  Recon_loss: 0.370673 Global_loss: 0.053427 Total loss: 0.424099\n",
      "\n",
      "Epoch: 34 Pred_loss: 0.000000 Recon_loss: 0.374529 Global_loss: 0.053673  Total loss: 0.428203\n",
      "Test set: Pred_loss: 0.000000  Recon_loss: 0.370394 Global_loss: 0.053499 Total loss: 0.423893\n",
      "\n",
      "Epoch: 35 Pred_loss: 0.000000 Recon_loss: 0.374463 Global_loss: 0.053685  Total loss: 0.428148\n",
      "Test set: Pred_loss: 0.000000  Recon_loss: 0.370426 Global_loss: 0.053613 Total loss: 0.424039\n",
      "\n",
      "Epoch: 36 Pred_loss: 0.000000 Recon_loss: 0.374376 Global_loss: 0.053721  Total loss: 0.428097\n",
      "Test set: Pred_loss: 0.000000  Recon_loss: 0.370306 Global_loss: 0.053572 Total loss: 0.423878\n",
      "\n",
      "Epoch: 37 Pred_loss: 0.000000 Recon_loss: 0.374265 Global_loss: 0.053728  Total loss: 0.427993\n",
      "Test set: Pred_loss: 0.000000  Recon_loss: 0.370173 Global_loss: 0.053655 Total loss: 0.423828\n",
      "\n",
      "Epoch: 38 Pred_loss: 0.000000 Recon_loss: 0.374209 Global_loss: 0.053748  Total loss: 0.427957\n",
      "Test set: Pred_loss: 0.000000  Recon_loss: 0.370424 Global_loss: 0.053408 Total loss: 0.423832\n",
      "\n",
      "Epoch: 39 Pred_loss: 0.000000 Recon_loss: 0.374156 Global_loss: 0.053743  Total loss: 0.427899\n",
      "Test set: Pred_loss: 0.000000  Recon_loss: 0.370144 Global_loss: 0.053578 Total loss: 0.423722\n",
      "\n",
      "Epoch: 40 Pred_loss: 0.000000 Recon_loss: 0.374045 Global_loss: 0.053780  Total loss: 0.427824\n",
      "Test set: Pred_loss: 0.000000  Recon_loss: 0.370092 Global_loss: 0.053574 Total loss: 0.423666\n",
      "\n",
      "Epoch: 41 Pred_loss: 0.000000 Recon_loss: 0.374009 Global_loss: 0.053801  Total loss: 0.427810\n",
      "Test set: Pred_loss: 0.000000  Recon_loss: 0.369836 Global_loss: 0.053703 Total loss: 0.423540\n",
      "\n",
      "Epoch: 42 Pred_loss: 0.000000 Recon_loss: 0.373925 Global_loss: 0.053813  Total loss: 0.427739\n",
      "Test set: Pred_loss: 0.000000  Recon_loss: 0.369971 Global_loss: 0.053652 Total loss: 0.423623\n",
      "\n",
      "Epoch: 43 Pred_loss: 0.000000 Recon_loss: 0.373888 Global_loss: 0.053813  Total loss: 0.427700\n",
      "Test set: Pred_loss: 0.000000  Recon_loss: 0.369995 Global_loss: 0.053520 Total loss: 0.423515\n",
      "\n",
      "Epoch: 44 Pred_loss: 0.000000 Recon_loss: 0.373818 Global_loss: 0.053821  Total loss: 0.427639\n",
      "Test set: Pred_loss: 0.000000  Recon_loss: 0.369914 Global_loss: 0.053575 Total loss: 0.423489\n",
      "\n",
      "Epoch: 45 Pred_loss: 0.000000 Recon_loss: 0.373760 Global_loss: 0.053830  Total loss: 0.427590\n",
      "Test set: Pred_loss: 0.000000  Recon_loss: 0.369895 Global_loss: 0.053533 Total loss: 0.423428\n",
      "\n",
      "Epoch: 46 Pred_loss: 0.000000 Recon_loss: 0.373736 Global_loss: 0.053840  Total loss: 0.427576\n",
      "Test set: Pred_loss: 0.000000  Recon_loss: 0.370003 Global_loss: 0.053509 Total loss: 0.423512\n",
      "\n",
      "Epoch: 47 Pred_loss: 0.000000 Recon_loss: 0.373656 Global_loss: 0.053864  Total loss: 0.427520\n",
      "Test set: Pred_loss: 0.000000  Recon_loss: 0.369805 Global_loss: 0.053605 Total loss: 0.423410\n",
      "\n",
      "Epoch: 48 Pred_loss: 0.000000 Recon_loss: 0.373644 Global_loss: 0.053860  Total loss: 0.427504\n",
      "Test set: Pred_loss: 0.000000  Recon_loss: 0.369788 Global_loss: 0.053565 Total loss: 0.423353\n",
      "\n",
      "Epoch: 49 Pred_loss: 0.000000 Recon_loss: 0.373597 Global_loss: 0.053852  Total loss: 0.427449\n",
      "Test set: Pred_loss: 0.000000  Recon_loss: 0.369506 Global_loss: 0.053799 Total loss: 0.423305\n",
      "\n",
      "Epoch: 50 Pred_loss: 0.000000 Recon_loss: 0.373584 Global_loss: 0.053868  Total loss: 0.427452\n",
      "Test set: Pred_loss: 0.000000  Recon_loss: 0.369659 Global_loss: 0.053710 Total loss: 0.423369\n",
      "\n"
     ]
    }
   ],
   "source": [
    "test(test_data_loader, model, loss_fn)\n",
    "\n",
    "for epoch in range(1, num_epochs + 1):\n",
    "  train(epoch, train_data_loader, model, optimizer, loss_fn)\n",
    "  test(test_data_loader, model, loss_fn)"
   ]
  },
  {
   "cell_type": "code",
   "execution_count": 7,
   "metadata": {},
   "outputs": [
    {
     "data": {
      "image/png": "[encoded data removed]",
      "text/plain": [
       "<Figure size 640x480 with 1 Axes>"
      ]
     },
     "metadata": {},
     "output_type": "display_data"
    }
   ],
   "source": [
    "import matplotlib.pyplot as plt\n",
    "fig = plt.figure()\n",
    "plt.plot(train_counter, train_losses, color='green')\n",
    "plt.plot(train_counter, train_recon_losses, color='yellow')\n",
    "plt.plot(train_counter, train_global_losses, color='blue')\n",
    "plt.scatter(test_counter, test_losses, color='red')\n",
    "plt.legend(['Train Total', 'Train Recon', 'Train Global','Test Total'], loc='upper right')\n",
    "plt.xlabel('Number of training examples seen')\n",
    "plt.ylabel('MSE Loss')\n",
    "plt.title(\"Losses across learning\")\n",
    "\n",
    "plt.savefig('optADAM,lr0.001,betas0.9,0.999.png')"
   ]
  },
  {
   "cell_type": "code",
   "execution_count": null,
   "metadata": {},
   "outputs": [],
   "source": []
  }
 ],
 "metadata": {
  "kernelspec": {
   "display_name": "Python 3",
   "language": "python",
   "name": "python3"
  },
  "language_info": {
   "codemirror_mode": {
    "name": "ipython",
    "version": 3
   },
   "file_extension": ".py",
   "mimetype": "text/x-python",
   "name": "python",
   "nbconvert_exporter": "python",
   "pygments_lexer": "ipython3",
   "version": "3.11.9"
  }
 },
 "nbformat": 4,
 "nbformat_minor": 2
}
