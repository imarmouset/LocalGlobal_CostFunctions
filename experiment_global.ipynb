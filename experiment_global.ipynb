{
 "cells": [
  {
   "cell_type": "markdown",
   "metadata": {},
   "source": [
    "## Global model"
   ]
  },
  {
   "cell_type": "markdown",
   "metadata": {},
   "source": [
    "Modules:"
   ]
  },
  {
   "cell_type": "code",
   "execution_count": 1,
   "metadata": {},
   "outputs": [
    {
     "name": "stderr",
     "output_type": "stream",
     "text": [
      "/Users/irismarmouset-delataille/mambaforge/envs/localglobal/lib/python3.11/site-packages/torchvision/io/image.py:13: UserWarning: Failed to load image Python extension: 'dlopen(/Users/irismarmouset-delataille/mambaforge/envs/localglobal/lib/python3.11/site-packages/torchvision/image.so, 0x0006): Symbol not found: __ZN3c1017RegisterOperatorsD1Ev\n",
      "  Referenced from: <E03EDA44-89AE-3115-9796-62BA9E0E2EDE> /Users/irismarmouset-delataille/mambaforge/envs/localglobal/lib/python3.11/site-packages/torchvision/image.so\n",
      "  Expected in:     <E943EB88-577E-37A4-93E1-5DAFE97B5744> /Users/irismarmouset-delataille/mambaforge/envs/localglobal/lib/python3.11/site-packages/torch/lib/libtorch_cpu.dylib'If you don't plan on using image functionality from `torchvision.io`, you can ignore this warning. Otherwise, there might be something wrong with your environment. Did you have `libjpeg` or `libpng` installed before building `torchvision` from source?\n",
      "  warn(\n"
     ]
    },
    {
     "data": {
      "text/plain": [
       "<torch._C.Generator at 0x1157cea30>"
      ]
     },
     "execution_count": 1,
     "metadata": {},
     "output_type": "execute_result"
    }
   ],
   "source": [
    "import os\n",
    "import torch\n",
    "import torchvision\n",
    "import torch.nn as nn\n",
    "import torch.nn.functional as F\n",
    "import torch.optim as optim\n",
    "\n",
    "random_seed = 1\n",
    "torch.backends.cudnn.enabled = False\n",
    "torch.manual_seed(random_seed)"
   ]
  },
  {
   "cell_type": "markdown",
   "metadata": {},
   "source": [
    "### Load MNIST dataset"
   ]
  },
  {
   "cell_type": "code",
   "execution_count": 2,
   "metadata": {},
   "outputs": [
    {
     "name": "stdout",
     "output_type": "stream",
     "text": [
      "Train dataset size: 60000\n",
      "Test dataset size: 10000\n"
     ]
    }
   ],
   "source": [
    "from dataset import get_mnist_dataset\n",
    "working_directory = os.getcwd()\n",
    "data_dir = os.path.join(working_directory, './dataset')\n",
    "batch_size_train = 64\n",
    "batch_size_test = 1000\n",
    "\n",
    "train_data_loader, test_data_loader = get_mnist_dataset(data_dir, batch_size_train=batch_size_train, batch_size_test=batch_size_test)\n",
    "\n",
    "print('Train dataset size: {}'.format(len(train_data_loader.dataset)))\n",
    "print('Test dataset size: {}'.format(len(test_data_loader.dataset)))"
   ]
  },
  {
   "cell_type": "markdown",
   "metadata": {},
   "source": [
    "### Model"
   ]
  },
  {
   "cell_type": "code",
   "execution_count": 3,
   "metadata": {},
   "outputs": [
    {
     "name": "stdout",
     "output_type": "stream",
     "text": [
      "GlobalNetwork(\n",
      "  (SST): SST(\n",
      "    (flatten): Flatten()\n",
      "    (fc1): Linear(in_features=784, out_features=784, bias=True)\n",
      "    (fc2): Linear(in_features=784, out_features=784, bias=True)\n",
      "    (fc3): Linear(in_features=784, out_features=128, bias=True)\n",
      "    (activation): Sigmoid()\n",
      "  )\n",
      "  (PyrGlobal): PyrGlobal(\n",
      "    (fc1): Linear(in_features=128, out_features=10, bias=True)\n",
      "    (activation): Sigmoid()\n",
      "  )\n",
      ")\n"
     ]
    }
   ],
   "source": [
    "from modules.network import GlobalNetwork\n",
    "\n",
    "learning_rate = 0.1 \n",
    "momentum = 0.5\n",
    "\n",
    "model = GlobalNetwork(input_dim=784, hidden_dim=128, output_dim=10)\n",
    "optimizer = optim.SGD(model.parameters(), lr=learning_rate,\n",
    "                      momentum=momentum)\n",
    "loss_fn = nn.MSELoss()\n",
    "\n",
    "print(model)"
   ]
  },
  {
   "cell_type": "code",
   "execution_count": 4,
   "metadata": {},
   "outputs": [
    {
     "name": "stdout",
     "output_type": "stream",
     "text": [
      "SST.fc1.weight\n",
      "SST.fc1.bias\n",
      "SST.fc2.weight\n",
      "SST.fc2.bias\n",
      "SST.fc3.weight\n",
      "SST.fc3.bias\n",
      "PyrGlobal.fc1.weight\n",
      "PyrGlobal.fc1.bias\n"
     ]
    }
   ],
   "source": [
    "for name, param in model.named_parameters():\n",
    "    print (name)"
   ]
  },
  {
   "cell_type": "markdown",
   "metadata": {},
   "source": [
    "### Training & Testing"
   ]
  },
  {
   "cell_type": "code",
   "execution_count": 5,
   "metadata": {},
   "outputs": [],
   "source": [
    "num_epochs = 50\n",
    "log_interval = 300\n",
    "\n",
    "train_losses = []\n",
    "train_counter = []\n",
    "test_losses = []\n",
    "test_counter = [i*len(train_data_loader.dataset) for i in range(num_epochs + 1)]\n",
    "\n",
    "\n",
    "def train(epoch, data_loader, model, loss_fn, optimizer):\n",
    "  model.train()\n",
    "  loss_avg = 0\n",
    "  for batch_idx, (data, target) in enumerate(data_loader):\n",
    "    optimizer.zero_grad()\n",
    "    top_down, output = model(data)\n",
    "    t = F.one_hot(target, num_classes=10).float() \n",
    "    loss = loss_fn(output, t)\n",
    "    loss.backward()\n",
    "    optimizer.step()\n",
    "    loss_avg += loss.item()\n",
    "\n",
    "    if batch_idx % log_interval == 0:\n",
    "      train_losses.append(loss.item())\n",
    "      train_counter.append((batch_idx*64) + ((epoch-1)*len(data_loader.dataset)))\n",
    "\n",
    "      # torch.save(network.state_dict(), '/results/model.pth')\n",
    "      # torch.save(optimizer.state_dict(), '/results/optimizer.pth')\n",
    "  loss_avg /= len(data_loader)\n",
    "  print('Epoch: {} Loss: {:.6f}'.format(epoch, loss_avg))\n",
    "\n",
    "\n",
    "def test(data_loader, model, loss_fn):\n",
    "  model.eval()\n",
    "  test_loss = 0\n",
    "  correct = 0\n",
    "  with torch.no_grad():\n",
    "    for data, target in data_loader:\n",
    "      optimizer.zero_grad()\n",
    "      top_down, output = model(data)\n",
    "      t = F.one_hot(target, num_classes=10).float() \n",
    "      loss = loss_fn(output, t)\n",
    "      test_loss += loss.item() \n",
    "      pred = output.data.max(1, keepdim=True)[1]\n",
    "      correct += pred.eq(target.data.view_as(pred)).sum()\n",
    "  test_loss = test_loss / len(data_loader.dataset) * batch_size_test\n",
    "  test_losses.append(test_loss)\n",
    "  print('Test set: Avg. loss: {:.6f}, Accuracy: {}/{} ({:.0f}%)\\n'.format(\n",
    "    test_loss, correct, len(data_loader.dataset),\n",
    "    100. * correct / len(data_loader.dataset)))"
   ]
  },
  {
   "cell_type": "code",
   "execution_count": 6,
   "metadata": {},
   "outputs": [
    {
     "name": "stdout",
     "output_type": "stream",
     "text": [
      "Test set: Avg. loss: 0.259801, Accuracy: 974/10000 (10%)\n",
      "\n",
      "Epoch: 1 Loss: 0.091280\n",
      "Test set: Avg. loss: 0.089970, Accuracy: 1135/10000 (11%)\n",
      "\n",
      "Epoch: 2 Loss: 0.089962\n",
      "Test set: Avg. loss: 0.089952, Accuracy: 1135/10000 (11%)\n",
      "\n",
      "Epoch: 3 Loss: 0.089946\n",
      "Test set: Avg. loss: 0.089927, Accuracy: 1135/10000 (11%)\n",
      "\n",
      "Epoch: 4 Loss: 0.089931\n",
      "Test set: Avg. loss: 0.089905, Accuracy: 1135/10000 (11%)\n",
      "\n",
      "Epoch: 5 Loss: 0.089913\n",
      "Test set: Avg. loss: 0.089889, Accuracy: 1135/10000 (11%)\n",
      "\n",
      "Epoch: 6 Loss: 0.089892\n",
      "Test set: Avg. loss: 0.089876, Accuracy: 1135/10000 (11%)\n",
      "\n",
      "Epoch: 7 Loss: 0.089874\n",
      "Test set: Avg. loss: 0.089849, Accuracy: 1135/10000 (11%)\n",
      "\n",
      "Epoch: 8 Loss: 0.089848\n",
      "Test set: Avg. loss: 0.089837, Accuracy: 1135/10000 (11%)\n",
      "\n",
      "Epoch: 9 Loss: 0.089824\n",
      "Test set: Avg. loss: 0.089791, Accuracy: 1135/10000 (11%)\n",
      "\n",
      "Epoch: 10 Loss: 0.089791\n",
      "Test set: Avg. loss: 0.089763, Accuracy: 1135/10000 (11%)\n",
      "\n",
      "Epoch: 11 Loss: 0.089755\n",
      "Test set: Avg. loss: 0.089724, Accuracy: 1138/10000 (11%)\n",
      "\n",
      "Epoch: 12 Loss: 0.089707\n",
      "Test set: Avg. loss: 0.089688, Accuracy: 1010/10000 (10%)\n",
      "\n",
      "Epoch: 13 Loss: 0.089650\n",
      "Test set: Avg. loss: 0.089602, Accuracy: 1135/10000 (11%)\n",
      "\n",
      "Epoch: 14 Loss: 0.089577\n",
      "Test set: Avg. loss: 0.089509, Accuracy: 1437/10000 (14%)\n",
      "\n",
      "Epoch: 15 Loss: 0.089474\n",
      "Test set: Avg. loss: 0.089381, Accuracy: 1912/10000 (19%)\n",
      "\n",
      "Epoch: 16 Loss: 0.089320\n",
      "Test set: Avg. loss: 0.089207, Accuracy: 1807/10000 (18%)\n",
      "\n",
      "Epoch: 17 Loss: 0.089084\n",
      "Test set: Avg. loss: 0.088880, Accuracy: 1746/10000 (17%)\n",
      "\n",
      "Epoch: 18 Loss: 0.088663\n",
      "Test set: Avg. loss: 0.088274, Accuracy: 2062/10000 (21%)\n",
      "\n",
      "Epoch: 19 Loss: 0.087744\n",
      "Test set: Avg. loss: 0.086829, Accuracy: 2096/10000 (21%)\n",
      "\n",
      "Epoch: 20 Loss: 0.085267\n",
      "Test set: Avg. loss: 0.082867, Accuracy: 2105/10000 (21%)\n",
      "\n",
      "Epoch: 21 Loss: 0.080698\n",
      "Test set: Avg. loss: 0.078455, Accuracy: 3008/10000 (30%)\n",
      "\n",
      "Epoch: 22 Loss: 0.077314\n",
      "Test set: Avg. loss: 0.075840, Accuracy: 3520/10000 (35%)\n",
      "\n",
      "Epoch: 23 Loss: 0.074977\n",
      "Test set: Avg. loss: 0.073565, Accuracy: 3783/10000 (38%)\n",
      "\n",
      "Epoch: 24 Loss: 0.072601\n",
      "Test set: Avg. loss: 0.070877, Accuracy: 4402/10000 (44%)\n",
      "\n",
      "Epoch: 25 Loss: 0.069704\n",
      "Test set: Avg. loss: 0.067865, Accuracy: 4763/10000 (48%)\n",
      "\n",
      "Epoch: 26 Loss: 0.066848\n",
      "Test set: Avg. loss: 0.065116, Accuracy: 5186/10000 (52%)\n",
      "\n",
      "Epoch: 27 Loss: 0.063975\n",
      "Test set: Avg. loss: 0.061761, Accuracy: 5652/10000 (57%)\n",
      "\n",
      "Epoch: 28 Loss: 0.059729\n",
      "Test set: Avg. loss: 0.056561, Accuracy: 6052/10000 (61%)\n",
      "\n",
      "Epoch: 29 Loss: 0.054158\n",
      "Test set: Avg. loss: 0.051243, Accuracy: 6473/10000 (65%)\n",
      "\n",
      "Epoch: 30 Loss: 0.049888\n",
      "Test set: Avg. loss: 0.047721, Accuracy: 6787/10000 (68%)\n",
      "\n",
      "Epoch: 31 Loss: 0.046962\n",
      "Test set: Avg. loss: 0.045103, Accuracy: 7075/10000 (71%)\n",
      "\n",
      "Epoch: 32 Loss: 0.044738\n",
      "Test set: Avg. loss: 0.043127, Accuracy: 7164/10000 (72%)\n",
      "\n",
      "Epoch: 33 Loss: 0.042895\n",
      "Test set: Avg. loss: 0.041424, Accuracy: 7395/10000 (74%)\n",
      "\n",
      "Epoch: 34 Loss: 0.041267\n",
      "Test set: Avg. loss: 0.039862, Accuracy: 7574/10000 (76%)\n",
      "\n",
      "Epoch: 35 Loss: 0.039698\n",
      "Test set: Avg. loss: 0.038317, Accuracy: 7753/10000 (78%)\n",
      "\n",
      "Epoch: 36 Loss: 0.038060\n",
      "Test set: Avg. loss: 0.036536, Accuracy: 7954/10000 (80%)\n",
      "\n",
      "Epoch: 37 Loss: 0.036275\n",
      "Test set: Avg. loss: 0.034699, Accuracy: 8068/10000 (81%)\n",
      "\n",
      "Epoch: 38 Loss: 0.034287\n",
      "Test set: Avg. loss: 0.032580, Accuracy: 8233/10000 (82%)\n",
      "\n",
      "Epoch: 39 Loss: 0.032210\n",
      "Test set: Avg. loss: 0.030484, Accuracy: 8345/10000 (83%)\n",
      "\n",
      "Epoch: 40 Loss: 0.030217\n",
      "Test set: Avg. loss: 0.028580, Accuracy: 8419/10000 (84%)\n",
      "\n",
      "Epoch: 41 Loss: 0.028431\n",
      "Test set: Avg. loss: 0.026915, Accuracy: 8497/10000 (85%)\n",
      "\n",
      "Epoch: 42 Loss: 0.026901\n",
      "Test set: Avg. loss: 0.025532, Accuracy: 8546/10000 (85%)\n",
      "\n",
      "Epoch: 43 Loss: 0.025572\n",
      "Test set: Avg. loss: 0.024383, Accuracy: 8594/10000 (86%)\n",
      "\n",
      "Epoch: 44 Loss: 0.024434\n",
      "Test set: Avg. loss: 0.023306, Accuracy: 8633/10000 (86%)\n",
      "\n",
      "Epoch: 45 Loss: 0.023448\n",
      "Test set: Avg. loss: 0.022376, Accuracy: 8669/10000 (87%)\n",
      "\n",
      "Epoch: 46 Loss: 0.022586\n",
      "Test set: Avg. loss: 0.021591, Accuracy: 8709/10000 (87%)\n",
      "\n",
      "Epoch: 47 Loss: 0.021812\n",
      "Test set: Avg. loss: 0.020885, Accuracy: 8747/10000 (87%)\n",
      "\n",
      "Epoch: 48 Loss: 0.021138\n",
      "Test set: Avg. loss: 0.020278, Accuracy: 8772/10000 (88%)\n",
      "\n",
      "Epoch: 49 Loss: 0.020527\n",
      "Test set: Avg. loss: 0.019692, Accuracy: 8800/10000 (88%)\n",
      "\n",
      "Epoch: 50 Loss: 0.019963\n",
      "Test set: Avg. loss: 0.019171, Accuracy: 8829/10000 (88%)\n",
      "\n"
     ]
    }
   ],
   "source": [
    "test(test_data_loader, model, loss_fn)\n",
    "for epoch in range(1, num_epochs + 1):\n",
    "  train(epoch, train_data_loader, model, loss_fn, optimizer)\n",
    "  test(test_data_loader, model, loss_fn)"
   ]
  },
  {
   "cell_type": "code",
   "execution_count": 7,
   "metadata": {},
   "outputs": [
    {
     "data": {
      "image/png": "[encoded data removed]",
      "text/plain": [
       "<Figure size 640x480 with 1 Axes>"
      ]
     },
     "execution_count": 7,
     "metadata": {},
     "output_type": "execute_result"
    },
    {
     "data": {
      "image/png": "[encoded data removed]",
      "text/plain": [
       "<Figure size 640x480 with 1 Axes>"
      ]
     },
     "metadata": {},
     "output_type": "display_data"
    }
   ],
   "source": [
    "import matplotlib.pyplot as plt\n",
    "fig = plt.figure()\n",
    "plt.plot(train_counter, train_losses, color='blue')\n",
    "plt.scatter(test_counter, test_losses, color='red')\n",
    "plt.legend(['Train Loss', 'Test Loss'], loc='upper right')\n",
    "plt.xlabel('number of training examples seen')\n",
    "plt.ylabel('Loss')\n",
    "fig"
   ]
  },
  {
   "cell_type": "code",
   "execution_count": null,
   "metadata": {},
   "outputs": [],
   "source": []
  }
 ],
 "metadata": {
  "kernelspec": {
   "display_name": "localglobal",
   "language": "python",
   "name": "python3"
  },
  "language_info": {
   "codemirror_mode": {
    "name": "ipython",
    "version": 3
   },
   "file_extension": ".py",
   "mimetype": "text/x-python",
   "name": "python",
   "nbconvert_exporter": "python",
   "pygments_lexer": "ipython3",
   "version": "3.11.9"
  }
 },
 "nbformat": 4,
 "nbformat_minor": 2
}
